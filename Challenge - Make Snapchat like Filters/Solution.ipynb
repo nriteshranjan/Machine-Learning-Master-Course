{
 "cells": [
  {
   "cell_type": "code",
   "execution_count": 1,
   "id": "bc0cde5b",
   "metadata": {},
   "outputs": [],
   "source": [
    "import cv2\n",
    "import numpy as np\n",
    "import pandas as pd\n",
    "%matplotlib inline"
   ]
  },
  {
   "cell_type": "code",
   "execution_count": 2,
   "id": "ca43dd5b",
   "metadata": {},
   "outputs": [],
   "source": [
    "def disp(title, data) : \n",
    "    cv2.imshow(title, data)\n",
    "    cv2.waitKey(0)\n",
    "    cv2.destroyAllWindows()"
   ]
  },
  {
   "cell_type": "code",
   "execution_count": 3,
   "id": "a037de3f",
   "metadata": {},
   "outputs": [],
   "source": [
    "data = cv2.imread('./Test/Before.png')\n",
    "disp(\"Jamie_Before\", data)"
   ]
  },
  {
   "cell_type": "code",
   "execution_count": 4,
   "id": "39a41673",
   "metadata": {},
   "outputs": [],
   "source": [
    "eye_c = cv2.CascadeClassifier(\"./Train/third-party/frontalEyes35x16.xml\")\n",
    "nose_c = cv2.CascadeClassifier(\"./Train/third-party/Nose18x15.xml\")\n",
    "\n",
    "if eye_c.empty():\n",
    "    raise IOError('Unable to load the eye cascade classifier xml file')\n",
    "    \n",
    "if nose_c.empty():\n",
    "    raise IOError('Unable to load the nose cascade classifier xml file')"
   ]
  },
  {
   "cell_type": "code",
   "execution_count": 5,
   "id": "a4612a74",
   "metadata": {},
   "outputs": [],
   "source": [
    "eyes = eye_c.detectMultiScale(data,1.3,5)\n",
    "nose = nose_c.detectMultiScale(data,1.3,5)\n",
    "\n",
    "xe, ye, we, he = eyes[0]\n",
    "xn, yn, wn, hn = nose[0]\n",
    "\n",
    "cv2.rectangle(data, (xe,ye), (xe+we,ye+he), (0,255,0), 3)\n",
    "    \n",
    "disp(\"I\", data)"
   ]
  },
  {
   "cell_type": "code",
   "execution_count": 6,
   "id": "e4865f6b",
   "metadata": {},
   "outputs": [
    {
     "name": "stdout",
     "output_type": "stream",
     "text": [
      "(59, 130, 4)\n"
     ]
    }
   ],
   "source": [
    "glasses = cv2.imread(\"./Train/glasses.png\",cv2.IMREAD_UNCHANGED)\n",
    "mustache = cv2.imread(\"./Train/mustache.png\",cv2.IMREAD_UNCHANGED)\n",
    "\n",
    "glasses = cv2.resize(glasses, (we, he))\n",
    "mustache = cv2.resize(mustache, (wn, hn))\n",
    "disp(\"Glasses\", glasses)\n",
    "disp(\"Mustache\", mustache)\n",
    "\n",
    "print(glasses.shape)"
   ]
  },
  {
   "cell_type": "code",
   "execution_count": 7,
   "id": "e55dde19",
   "metadata": {},
   "outputs": [],
   "source": [
    "output = data.copy()"
   ]
  },
  {
   "cell_type": "code",
   "execution_count": 8,
   "id": "e1aa56d9",
   "metadata": {},
   "outputs": [],
   "source": [
    "alpha_glass = glasses[:, :, 3] / 255.0\n",
    "alpha_mustache = mustache[:, :, 3] / 255.0\n",
    "\n",
    "alpha_g_image = 1.0 - alpha_glass\n",
    "alpha_m_image = 1.0 - alpha_mustache\n",
    "\n",
    "x_e_offset = xe\n",
    "y_e_offset = ye\n",
    "ye1, ye2 = y_e_offset, y_e_offset + glasses.shape[0]\n",
    "xe1, xe2 = x_e_offset, x_e_offset + glasses.shape[1]\n",
    "\n",
    "x_n_offset = xn\n",
    "y_n_offset = yn\n",
    "yn1, yn2 = y_n_offset, y_n_offset + mustache.shape[0]\n",
    "xn1, xn2 = x_n_offset, x_n_offset + mustache.shape[1]\n",
    "\n",
    "\n",
    "for c in range(0, 3):\n",
    "    output[ye1:ye2, xe1:xe2, c] = ((alpha_g_image*output[ye1:ye2, xe1:xe2, c]) +\n",
    "                                   (alpha_glass*glasses[:, :, c]))\n",
    "\n",
    "for c in range(0, 3):\n",
    "    output[yn1:yn2, xn1:xn2, c] = ((alpha_m_image*output[yn1:yn2, xn1:xn2, c]) +\n",
    "                                   (alpha_mustache*mustache[:, :, c]))"
   ]
  },
  {
   "cell_type": "code",
   "execution_count": 9,
   "id": "da7caec7",
   "metadata": {},
   "outputs": [
    {
     "name": "stdout",
     "output_type": "stream",
     "text": [
      "(485, 377, 3)\n"
     ]
    }
   ],
   "source": [
    "print(output.shape)\n",
    "disp(\"image\", output)\n",
    "cv2.imwrite(\"outputimage.jpeg\", output)\n",
    "\n",
    "output_np = np.array(output)\n",
    "output_b = output_np[:, :, 0]\n",
    "output_g = output_np[:, :, 1]\n",
    "output_r = output_np[:, :, 2]\n",
    "\n",
    "output_b = output_b.flatten()\n",
    "output_g = output_g.flatten()\n",
    "output_r = output_r.flatten()\n",
    "\n",
    "out = np.stack([output_b, output_g, output_r])\n",
    "out = out.reshape((-1, 3))\n",
    "\n",
    "out_df = pd.DataFrame(out, columns=['Channel 1', 'Channel 2', 'Channel 3'])\n",
    "out_df.to_csv('outputfile.csv', index=False, index_label=False)"
   ]
  }
 ],
 "metadata": {
  "kernelspec": {
   "display_name": "Python 3",
   "language": "python",
   "name": "python3"
  },
  "language_info": {
   "codemirror_mode": {
    "name": "ipython",
    "version": 3
   },
   "file_extension": ".py",
   "mimetype": "text/x-python",
   "name": "python",
   "nbconvert_exporter": "python",
   "pygments_lexer": "ipython3",
   "version": "3.8.8"
  }
 },
 "nbformat": 4,
 "nbformat_minor": 5
}
