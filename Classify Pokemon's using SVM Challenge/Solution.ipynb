{
 "cells": [
  {
   "cell_type": "code",
   "execution_count": 1,
   "id": "f96de89f",
   "metadata": {},
   "outputs": [],
   "source": [
    "import os\n",
    "import numpy as np\n",
    "import pandas as pd\n",
    "import multiprocessing\n",
    "from sklearn import svm\n",
    "from pathlib import Path\n",
    "import matplotlib.pyplot as plt\n",
    "from keras.preprocessing import image\n",
    "from sklearn.model_selection import GridSearchCV\n",
    "from keras.preprocessing.image import ImageDataGenerator"
   ]
  },
  {
   "cell_type": "code",
   "execution_count": 2,
   "id": "a2d8143d",
   "metadata": {},
   "outputs": [
    {
     "name": "stdout",
     "output_type": "stream",
     "text": [
      "4\n"
     ]
    }
   ],
   "source": [
    "cpus = multiprocessing.cpu_count()\n",
    "print(cpus)"
   ]
  },
  {
   "cell_type": "code",
   "execution_count": 3,
   "id": "25d89016",
   "metadata": {},
   "outputs": [],
   "source": [
    "mapping = pd.read_csv('train.csv').values"
   ]
  },
  {
   "cell_type": "code",
   "execution_count": 4,
   "id": "715bd733",
   "metadata": {},
   "outputs": [
    {
     "data": {
      "text/plain": [
       "array([['296.jpg', 'Pikachu'],\n",
       "       ['297.jpg', 'Pikachu'],\n",
       "       ['298.jpg', 'Pikachu'],\n",
       "       ['299.jpg', 'Pikachu'],\n",
       "       ['300.jpg', 'Pikachu'],\n",
       "       ['301.jpg', 'Pikachu'],\n",
       "       ['302.jpg', 'Pikachu'],\n",
       "       ['303.jpg', 'Pikachu'],\n",
       "       ['304.jpg', 'Pikachu'],\n",
       "       ['305.jpg', 'Pikachu'],\n",
       "       ['306.jpg', 'Pikachu'],\n",
       "       ['307.jpg', 'Pikachu'],\n",
       "       ['308.jpg', 'Pikachu'],\n",
       "       ['309.jpg', 'Pikachu'],\n",
       "       ['310.jpg', 'Pikachu'],\n",
       "       ['311.jpg', 'Pikachu'],\n",
       "       ['312.jpg', 'Pikachu'],\n",
       "       ['313.jpg', 'Pikachu'],\n",
       "       ['314.jpg', 'Pikachu'],\n",
       "       ['315.jpg', 'Pikachu'],\n",
       "       ['316.jpg', 'Pikachu'],\n",
       "       ['317.jpg', 'Pikachu'],\n",
       "       ['318.jpg', 'Pikachu'],\n",
       "       ['319.jpg', 'Pikachu'],\n",
       "       ['320.jpg', 'Pikachu'],\n",
       "       ['321.jpg', 'Pikachu'],\n",
       "       ['322.jpg', 'Pikachu'],\n",
       "       ['323.jpg', 'Pikachu'],\n",
       "       ['324.jpg', 'Pikachu'],\n",
       "       ['325.jpg', 'Pikachu'],\n",
       "       ['326.jpg', 'Pikachu'],\n",
       "       ['327.jpg', 'Pikachu'],\n",
       "       ['328.jpg', 'Pikachu'],\n",
       "       ['329.jpg', 'Pikachu'],\n",
       "       ['330.jpg', 'Pikachu'],\n",
       "       ['331.jpg', 'Pikachu'],\n",
       "       ['332.jpg', 'Pikachu'],\n",
       "       ['333.jpg', 'Pikachu'],\n",
       "       ['334.jpg', 'Pikachu'],\n",
       "       ['335.jpg', 'Pikachu'],\n",
       "       ['336.jpg', 'Pikachu'],\n",
       "       ['337.jpg', 'Pikachu'],\n",
       "       ['338.jpg', 'Pikachu'],\n",
       "       ['339.jpg', 'Pikachu'],\n",
       "       ['340.jpg', 'Pikachu'],\n",
       "       ['341.jpg', 'Pikachu'],\n",
       "       ['342.jpg', 'Pikachu'],\n",
       "       ['343.jpg', 'Pikachu'],\n",
       "       ['344.jpg', 'Pikachu'],\n",
       "       ['345.jpg', 'Pikachu'],\n",
       "       ['346.jpg', 'Pikachu'],\n",
       "       ['347.jpg', 'Pikachu'],\n",
       "       ['348.jpg', 'Pikachu'],\n",
       "       ['349.jpg', 'Pikachu'],\n",
       "       ['350.jpg', 'Pikachu'],\n",
       "       ['351.jpg', 'Pikachu'],\n",
       "       ['352.jpg', 'Pikachu'],\n",
       "       ['353.jpg', 'Pikachu'],\n",
       "       ['354.jpg', 'Pikachu'],\n",
       "       ['355.jpg', 'Pikachu'],\n",
       "       ['356.jpg', 'Pikachu'],\n",
       "       ['357.jpg', 'Pikachu'],\n",
       "       ['358.jpg', 'Pikachu'],\n",
       "       ['359.jpg', 'Pikachu'],\n",
       "       ['360.jpg', 'Pikachu'],\n",
       "       ['361.jpg', 'Pikachu'],\n",
       "       ['362.jpg', 'Pikachu'],\n",
       "       ['363.jpg', 'Pikachu'],\n",
       "       ['364.jpg', 'Pikachu'],\n",
       "       ['365.jpg', 'Pikachu'],\n",
       "       ['366.jpg', 'Pikachu'],\n",
       "       ['367.jpg', 'Pikachu'],\n",
       "       ['368.jpg', 'Pikachu'],\n",
       "       ['369.jpg', 'Pikachu'],\n",
       "       ['370.jpg', 'Pikachu'],\n",
       "       ['371.jpg', 'Pikachu'],\n",
       "       ['372.jpg', 'Pikachu'],\n",
       "       ['373.jpg', 'Pikachu'],\n",
       "       ['374.jpg', 'Pikachu'],\n",
       "       ['375.jpg', 'Pikachu'],\n",
       "       ['376.jpg', 'Pikachu'],\n",
       "       ['377.jpg', 'Pikachu'],\n",
       "       ['378.jpg', 'Pikachu'],\n",
       "       ['379.jpg', 'Pikachu'],\n",
       "       ['380.jpg', 'Pikachu'],\n",
       "       ['381.jpg', 'Pikachu'],\n",
       "       ['382.jpg', 'Pikachu'],\n",
       "       ['383.jpg', 'Pikachu'],\n",
       "       ['384.jpg', 'Pikachu'],\n",
       "       ['385.jpg', 'Pikachu'],\n",
       "       ['386.jpg', 'Pikachu'],\n",
       "       ['387.jpg', 'Pikachu'],\n",
       "       ['388.jpg', 'Pikachu'],\n",
       "       ['389.jpg', 'Pikachu'],\n",
       "       ['390.jpg', 'Pikachu'],\n",
       "       ['391.jpg', 'Pikachu'],\n",
       "       ['392.jpg', 'Pikachu'],\n",
       "       ['393.jpg', 'Pikachu'],\n",
       "       ['394.jpg', 'Pikachu'],\n",
       "       ['395.jpg', 'Pikachu'],\n",
       "       ['396.jpg', 'Pikachu'],\n",
       "       ['397.jpg', 'Bulbasaur'],\n",
       "       ['398.jpg', 'Bulbasaur'],\n",
       "       ['399.jpg', 'Bulbasaur'],\n",
       "       ['400.jpg', 'Bulbasaur'],\n",
       "       ['401.jpg', 'Bulbasaur'],\n",
       "       ['402.jpg', 'Bulbasaur'],\n",
       "       ['403.jpg', 'Bulbasaur'],\n",
       "       ['404.jpg', 'Bulbasaur'],\n",
       "       ['405.jpg', 'Bulbasaur'],\n",
       "       ['406.jpg', 'Bulbasaur'],\n",
       "       ['407.jpg', 'Bulbasaur'],\n",
       "       ['408.jpg', 'Bulbasaur'],\n",
       "       ['409.jpg', 'Bulbasaur'],\n",
       "       ['410.jpg', 'Bulbasaur'],\n",
       "       ['411.jpg', 'Bulbasaur'],\n",
       "       ['412.jpg', 'Bulbasaur'],\n",
       "       ['413.jpg', 'Bulbasaur'],\n",
       "       ['414.jpg', 'Bulbasaur'],\n",
       "       ['415.jpg', 'Bulbasaur'],\n",
       "       ['416.jpg', 'Bulbasaur'],\n",
       "       ['417.jpg', 'Bulbasaur'],\n",
       "       ['418.jpg', 'Bulbasaur'],\n",
       "       ['419.jpg', 'Bulbasaur'],\n",
       "       ['420.jpg', 'Bulbasaur'],\n",
       "       ['421.jpg', 'Bulbasaur'],\n",
       "       ['422.jpg', 'Bulbasaur'],\n",
       "       ['423.jpg', 'Bulbasaur'],\n",
       "       ['424.jpg', 'Bulbasaur'],\n",
       "       ['425.jpg', 'Bulbasaur'],\n",
       "       ['426.jpg', 'Bulbasaur'],\n",
       "       ['427.jpg', 'Bulbasaur'],\n",
       "       ['428.jpg', 'Bulbasaur'],\n",
       "       ['429.jpg', 'Bulbasaur'],\n",
       "       ['430.jpg', 'Bulbasaur'],\n",
       "       ['431.jpg', 'Bulbasaur'],\n",
       "       ['432.jpg', 'Bulbasaur'],\n",
       "       ['433.jpg', 'Bulbasaur'],\n",
       "       ['434.jpg', 'Bulbasaur'],\n",
       "       ['435.jpg', 'Bulbasaur'],\n",
       "       ['436.jpg', 'Bulbasaur'],\n",
       "       ['437.jpg', 'Bulbasaur'],\n",
       "       ['438.jpg', 'Bulbasaur'],\n",
       "       ['439.jpg', 'Bulbasaur'],\n",
       "       ['440.jpg', 'Bulbasaur'],\n",
       "       ['441.jpg', 'Bulbasaur'],\n",
       "       ['442.jpg', 'Bulbasaur'],\n",
       "       ['443.jpg', 'Bulbasaur'],\n",
       "       ['444.jpg', 'Bulbasaur'],\n",
       "       ['445.jpg', 'Bulbasaur'],\n",
       "       ['446.jpg', 'Bulbasaur'],\n",
       "       ['447.jpg', 'Bulbasaur'],\n",
       "       ['448.jpg', 'Bulbasaur'],\n",
       "       ['449.jpg', 'Bulbasaur'],\n",
       "       ['450.jpg', 'Bulbasaur'],\n",
       "       ['451.jpg', 'Bulbasaur'],\n",
       "       ['452.jpg', 'Bulbasaur'],\n",
       "       ['453.jpg', 'Bulbasaur'],\n",
       "       ['454.jpg', 'Bulbasaur'],\n",
       "       ['455.jpg', 'Bulbasaur'],\n",
       "       ['456.jpg', 'Bulbasaur'],\n",
       "       ['457.jpg', 'Bulbasaur'],\n",
       "       ['458.jpg', 'Bulbasaur'],\n",
       "       ['459.jpg', 'Bulbasaur'],\n",
       "       ['460.jpg', 'Bulbasaur'],\n",
       "       ['461.jpg', 'Bulbasaur'],\n",
       "       ['462.jpg', 'Bulbasaur'],\n",
       "       ['463.jpg', 'Bulbasaur'],\n",
       "       ['464.jpg', 'Bulbasaur'],\n",
       "       ['465.jpg', 'Bulbasaur'],\n",
       "       ['466.jpg', 'Bulbasaur'],\n",
       "       ['467.jpg', 'Bulbasaur'],\n",
       "       ['468.jpg', 'Bulbasaur'],\n",
       "       ['469.jpg', 'Bulbasaur'],\n",
       "       ['470.jpg', 'Bulbasaur'],\n",
       "       ['471.jpg', 'Bulbasaur'],\n",
       "       ['472.jpg', 'Bulbasaur'],\n",
       "       ['473.jpg', 'Bulbasaur'],\n",
       "       ['474.jpg', 'Bulbasaur'],\n",
       "       ['475.jpg', 'Bulbasaur'],\n",
       "       ['476.jpg', 'Bulbasaur'],\n",
       "       ['477.jpg', 'Bulbasaur'],\n",
       "       ['478.jpg', 'Bulbasaur'],\n",
       "       ['479.jpg', 'Bulbasaur'],\n",
       "       ['480.jpg', 'Bulbasaur'],\n",
       "       ['481.jpg', 'Bulbasaur'],\n",
       "       ['482.jpg', 'Bulbasaur'],\n",
       "       ['483.jpg', 'Bulbasaur'],\n",
       "       ['484.jpg', 'Bulbasaur'],\n",
       "       ['485.jpg', 'Bulbasaur'],\n",
       "       ['486.jpg', 'Bulbasaur'],\n",
       "       ['487.jpg', 'Bulbasaur'],\n",
       "       ['488.jpg', 'Bulbasaur'],\n",
       "       ['489.jpg', 'Bulbasaur'],\n",
       "       ['490.jpg', 'Bulbasaur'],\n",
       "       ['491.jpg', 'Bulbasaur'],\n",
       "       ['492.jpg', 'Bulbasaur'],\n",
       "       ['493.jpg', 'Bulbasaur'],\n",
       "       ['494.jpg', 'Bulbasaur'],\n",
       "       ['495.jpg', 'Bulbasaur'],\n",
       "       ['496.jpg', 'Bulbasaur'],\n",
       "       ['497.jpg', 'Bulbasaur'],\n",
       "       ['498.jpg', 'Charmander'],\n",
       "       ['520.jpg', 'Charmander'],\n",
       "       ['521.jpg', 'Charmander'],\n",
       "       ['522.jpg', 'Charmander'],\n",
       "       ['523.jpg', 'Charmander'],\n",
       "       ['524.jpg', 'Charmander'],\n",
       "       ['525.jpg', 'Charmander'],\n",
       "       ['526.jpg', 'Charmander'],\n",
       "       ['527.jpg', 'Charmander'],\n",
       "       ['528.jpg', 'Charmander'],\n",
       "       ['529.jpg', 'Charmander'],\n",
       "       ['530.jpg', 'Charmander'],\n",
       "       ['531.jpg', 'Charmander'],\n",
       "       ['532.jpg', 'Charmander'],\n",
       "       ['533.jpg', 'Charmander'],\n",
       "       ['534.jpg', 'Charmander'],\n",
       "       ['535.jpg', 'Charmander'],\n",
       "       ['536.jpg', 'Charmander'],\n",
       "       ['537.jpg', 'Charmander'],\n",
       "       ['538.jpg', 'Charmander'],\n",
       "       ['539.jpg', 'Charmander'],\n",
       "       ['540.jpg', 'Charmander'],\n",
       "       ['541.jpg', 'Charmander'],\n",
       "       ['542.jpg', 'Charmander'],\n",
       "       ['543.jpg', 'Charmander'],\n",
       "       ['544.jpg', 'Charmander'],\n",
       "       ['545.jpg', 'Charmander'],\n",
       "       ['546.jpg', 'Charmander'],\n",
       "       ['547.jpg', 'Charmander'],\n",
       "       ['548.jpg', 'Charmander'],\n",
       "       ['549.jpg', 'Charmander'],\n",
       "       ['550.jpg', 'Charmander'],\n",
       "       ['551.jpg', 'Charmander'],\n",
       "       ['552.jpg', 'Charmander'],\n",
       "       ['553.jpg', 'Charmander'],\n",
       "       ['554.jpg', 'Charmander'],\n",
       "       ['555.jpg', 'Charmander'],\n",
       "       ['556.jpg', 'Charmander'],\n",
       "       ['557.jpg', 'Charmander'],\n",
       "       ['558.jpg', 'Charmander'],\n",
       "       ['559.jpg', 'Charmander'],\n",
       "       ['560.jpg', 'Charmander'],\n",
       "       ['561.jpg', 'Charmander'],\n",
       "       ['562.jpg', 'Charmander'],\n",
       "       ['563.jpg', 'Charmander'],\n",
       "       ['564.jpg', 'Charmander'],\n",
       "       ['565.jpg', 'Charmander'],\n",
       "       ['566.jpg', 'Charmander'],\n",
       "       ['567.jpg', 'Charmander'],\n",
       "       ['568.jpg', 'Charmander'],\n",
       "       ['569.jpg', 'Charmander'],\n",
       "       ['570.jpg', 'Charmander'],\n",
       "       ['571.jpg', 'Charmander'],\n",
       "       ['572.jpg', 'Charmander'],\n",
       "       ['573.jpg', 'Charmander'],\n",
       "       ['574.jpg', 'Charmander'],\n",
       "       ['575.jpg', 'Charmander'],\n",
       "       ['576.jpg', 'Charmander'],\n",
       "       ['577.jpg', 'Charmander'],\n",
       "       ['578.jpg', 'Charmander'],\n",
       "       ['579.jpg', 'Charmander'],\n",
       "       ['580.jpg', 'Charmander'],\n",
       "       ['581.jpg', 'Charmander'],\n",
       "       ['582.jpg', 'Charmander'],\n",
       "       ['583.jpg', 'Charmander'],\n",
       "       ['584.jpg', 'Charmander'],\n",
       "       ['585.jpg', 'Charmander'],\n",
       "       ['586.jpg', 'Charmander'],\n",
       "       ['587.jpg', 'Charmander'],\n",
       "       ['588.jpg', 'Charmander'],\n",
       "       ['589.jpg', 'Charmander'],\n",
       "       ['590.jpg', 'Charmander'],\n",
       "       ['591.jpg', 'Charmander'],\n",
       "       ['592.jpg', 'Charmander'],\n",
       "       ['593.jpg', 'Charmander'],\n",
       "       ['594.jpg', 'Charmander'],\n",
       "       ['595.jpg', 'Charmander'],\n",
       "       ['596.jpg', 'Charmander'],\n",
       "       ['597.jpg', 'Charmander'],\n",
       "       ['598.jpg', 'Charmander'],\n",
       "       ['599.jpg', 'Charmander'],\n",
       "       ['600.jpg', 'Charmander'],\n",
       "       ['601.jpg', 'Charmander'],\n",
       "       ['602.jpg', 'Charmander'],\n",
       "       ['603.jpg', 'Charmander'],\n",
       "       ['604.jpg', 'Charmander'],\n",
       "       ['605.jpg', 'Charmander'],\n",
       "       ['606.jpg', 'Charmander'],\n",
       "       ['607.jpg', 'Charmander'],\n",
       "       ['608.jpg', 'Charmander'],\n",
       "       ['609.jpg', 'Charmander'],\n",
       "       ['610.jpg', 'Charmander'],\n",
       "       ['611.jpg', 'Charmander'],\n",
       "       ['612.jpg', 'Charmander'],\n",
       "       ['613.jpg', 'Charmander'],\n",
       "       ['614.jpg', 'Charmander'],\n",
       "       ['615.jpg', 'Charmander'],\n",
       "       ['616.jpg', 'Charmander'],\n",
       "       ['617.jpg', 'Charmander'],\n",
       "       ['618.jpg', 'Charmander'],\n",
       "       ['619.jpg', 'Charmander'],\n",
       "       ['620.jpg', 'Charmander']], dtype=object)"
      ]
     },
     "execution_count": 4,
     "metadata": {},
     "output_type": "execute_result"
    }
   ],
   "source": [
    "mapping"
   ]
  },
  {
   "cell_type": "code",
   "execution_count": 5,
   "id": "b9f01008",
   "metadata": {},
   "outputs": [],
   "source": [
    "pairs = dict()\n",
    "for i in mapping:\n",
    "    pairs[i[0]] = i[1]"
   ]
  },
  {
   "cell_type": "code",
   "execution_count": 6,
   "id": "9e1965f6",
   "metadata": {},
   "outputs": [],
   "source": [
    "datagen = ImageDataGenerator(rescale=1.0/255.0)"
   ]
  },
  {
   "cell_type": "code",
   "execution_count": 7,
   "id": "045aa179",
   "metadata": {},
   "outputs": [
    {
     "name": "stderr",
     "output_type": "stream",
     "text": [
      "C:\\Users\\rrite\\anaconda3\\lib\\site-packages\\PIL\\Image.py:962: UserWarning: Palette images with Transparency expressed in bytes should be converted to RGBA images\n",
      "  warnings.warn(\n"
     ]
    }
   ],
   "source": [
    "dirs = Path(\"Images/\").glob(\"*jpg\")\n",
    "\n",
    "labels_dict = {\"Bulbasaur\":0,\"Pikachu\":1,\"Charmander\":2}\n",
    "\n",
    "image_data = []\n",
    "labels = []\n",
    "\n",
    "for image_path in dirs:\n",
    "    label = str(image_path).split(\"\\\\\")[-1]\n",
    "#     print(label)\n",
    "    if label in pairs:\n",
    "        img = image.load_img(\"Images/\" + label,target_size=(32,32))\n",
    "        img_array = image.img_to_array(img)\n",
    "        norm = np.linalg.norm(img_array)\n",
    "        img_array = img_array / norm\n",
    "        image_data.append(img_array)\n",
    "        labels.append(labels_dict[pairs[label]])"
   ]
  },
  {
   "cell_type": "code",
   "execution_count": 8,
   "id": "09bbd981",
   "metadata": {},
   "outputs": [],
   "source": [
    "image_data = np.array(image_data,dtype='float32')/255.0\n",
    "labels = np.array(labels)"
   ]
  },
  {
   "cell_type": "code",
   "execution_count": 9,
   "id": "ee65be53",
   "metadata": {},
   "outputs": [],
   "source": [
    "M = image_data.shape[0] \n",
    "image_data = image_data.reshape(M,-1)"
   ]
  },
  {
   "cell_type": "code",
   "execution_count": 10,
   "id": "d53cf6cc",
   "metadata": {},
   "outputs": [],
   "source": [
    "params = [\n",
    "    {\n",
    "        'kernel':['linear','rbf','poly','sigmoid'],\n",
    "        'C':[\n",
    "             0.160, 0.161, 0.162, 0.163, 0.164, 0.165, 0.166, 0.167, 0.168, 0.169,\n",
    "             0.170, 0.171, 0.172, 0.173, 0.174, 0.175, 0.176, 0.177, 0.178, 0.179,\n",
    "             0.180, 0.181, 0.182, 0.183, 0.184, 0.185, 0.186, 0.187, 0.188, 0.189,\n",
    "             0.190, 0.191, 0.192, 0.193, 0.194, 0.195, 0.196, 0.197, 0.198, 0.199,\n",
    "             ]\n",
    "    }   \n",
    "]"
   ]
  },
  {
   "cell_type": "code",
   "execution_count": 17,
   "id": "dce2086e",
   "metadata": {},
   "outputs": [],
   "source": [
    "svm_classifier = svm.SVC(kernel='poly',C=0.167)"
   ]
  },
  {
   "cell_type": "code",
   "execution_count": 18,
   "id": "071c6889",
   "metadata": {},
   "outputs": [
    {
     "data": {
      "text/plain": [
       "1.0"
      ]
     },
     "execution_count": 18,
     "metadata": {},
     "output_type": "execute_result"
    }
   ],
   "source": [
    "svm_classifier.fit(image_data,labels)\n",
    "svm_classifier.score(image_data,labels)"
   ]
  },
  {
   "cell_type": "code",
   "execution_count": 13,
   "id": "05ef44f9",
   "metadata": {},
   "outputs": [],
   "source": [
    "gs = GridSearchCV(estimator=svm.SVC(),param_grid=params,scoring=\"accuracy\",cv=5,n_jobs = cpus)"
   ]
  },
  {
   "cell_type": "code",
   "execution_count": 14,
   "id": "61edd5ac",
   "metadata": {},
   "outputs": [
    {
     "data": {
      "text/plain": [
       "GridSearchCV(cv=5, estimator=SVC(), n_jobs=4,\n",
       "             param_grid=[{'C': [0.01, 0.02, 0.03, 0.04, 0.05, 0.06, 0.07, 0.08,\n",
       "                                0.09, 0.1, 0.11, 0.111, 0.112, 0.113, 0.114,\n",
       "                                0.115, 0.116, 0.117, 0.118, 0.119, 0.12, 0.121,\n",
       "                                0.122, 0.123, 0.124, 0.125, 0.126, 0.127, 0.128,\n",
       "                                0.129, ...],\n",
       "                          'kernel': ['linear', 'rbf', 'poly', 'sigmoid']}],\n",
       "             scoring='accuracy')"
      ]
     },
     "execution_count": 14,
     "metadata": {},
     "output_type": "execute_result"
    }
   ],
   "source": [
    "gs.fit(image_data, labels)"
   ]
  },
  {
   "cell_type": "code",
   "execution_count": 15,
   "id": "f6e6c10f",
   "metadata": {},
   "outputs": [
    {
     "data": {
      "text/plain": [
       "SVC(C=0.167, kernel='poly')"
      ]
     },
     "execution_count": 15,
     "metadata": {},
     "output_type": "execute_result"
    }
   ],
   "source": [
    "gs.best_estimator_"
   ]
  },
  {
   "cell_type": "code",
   "execution_count": 16,
   "id": "19cf0c09",
   "metadata": {},
   "outputs": [
    {
     "data": {
      "text/plain": [
       "0.8846448087431694"
      ]
     },
     "execution_count": 16,
     "metadata": {},
     "output_type": "execute_result"
    }
   ],
   "source": [
    "gs.best_score_"
   ]
  },
  {
   "cell_type": "markdown",
   "id": "1540d5a2",
   "metadata": {},
   "source": [
    "### Testing on test data and generating csv output for submission"
   ]
  },
  {
   "cell_type": "code",
   "execution_count": 19,
   "id": "15cc7369",
   "metadata": {},
   "outputs": [],
   "source": [
    "test_mapping = pd.read_csv('test.csv')"
   ]
  },
  {
   "cell_type": "code",
   "execution_count": 20,
   "id": "b866518a",
   "metadata": {},
   "outputs": [
    {
     "data": {
      "text/html": [
       "<div>\n",
       "<style scoped>\n",
       "    .dataframe tbody tr th:only-of-type {\n",
       "        vertical-align: middle;\n",
       "    }\n",
       "\n",
       "    .dataframe tbody tr th {\n",
       "        vertical-align: top;\n",
       "    }\n",
       "\n",
       "    .dataframe thead th {\n",
       "        text-align: right;\n",
       "    }\n",
       "</style>\n",
       "<table border=\"1\" class=\"dataframe\">\n",
       "  <thead>\n",
       "    <tr style=\"text-align: right;\">\n",
       "      <th></th>\n",
       "      <th>ImageId</th>\n",
       "    </tr>\n",
       "  </thead>\n",
       "  <tbody>\n",
       "    <tr>\n",
       "      <th>0</th>\n",
       "      <td>1106.jpg</td>\n",
       "    </tr>\n",
       "    <tr>\n",
       "      <th>1</th>\n",
       "      <td>2236.jpg</td>\n",
       "    </tr>\n",
       "    <tr>\n",
       "      <th>2</th>\n",
       "      <td>1131.jpg</td>\n",
       "    </tr>\n",
       "    <tr>\n",
       "      <th>3</th>\n",
       "      <td>2221.jpg</td>\n",
       "    </tr>\n",
       "    <tr>\n",
       "      <th>4</th>\n",
       "      <td>2011.jpg</td>\n",
       "    </tr>\n",
       "  </tbody>\n",
       "</table>\n",
       "</div>"
      ],
      "text/plain": [
       "    ImageId\n",
       "0  1106.jpg\n",
       "1  2236.jpg\n",
       "2  1131.jpg\n",
       "3  2221.jpg\n",
       "4  2011.jpg"
      ]
     },
     "execution_count": 20,
     "metadata": {},
     "output_type": "execute_result"
    }
   ],
   "source": [
    "test_mapping.head()"
   ]
  },
  {
   "cell_type": "code",
   "execution_count": 22,
   "id": "2e826735",
   "metadata": {},
   "outputs": [],
   "source": [
    "test_mapping = test_mapping.values"
   ]
  },
  {
   "cell_type": "code",
   "execution_count": 23,
   "id": "6918948f",
   "metadata": {},
   "outputs": [
    {
     "data": {
      "text/plain": [
       "array(['1106.jpg'], dtype=object)"
      ]
     },
     "execution_count": 23,
     "metadata": {},
     "output_type": "execute_result"
    }
   ],
   "source": [
    "test_mapping[0]"
   ]
  },
  {
   "cell_type": "code",
   "execution_count": 41,
   "id": "d4569b96",
   "metadata": {},
   "outputs": [],
   "source": [
    "test_labels_dict = {0: \"Bulbasaur\", 1: \"Pikachu\",2: \"Charmander\"}\n",
    "\n",
    "test_image_data = []\n",
    "labels = []\n",
    "\n",
    "for item in test_mapping:\n",
    "    img = image.load_img(\"Images/\" + item[0], target_size=(32,32))\n",
    "    img_array = image.img_to_array(img)\n",
    "    norm = np.linalg.norm(img_array)\n",
    "    img_array = img_array / norm\n",
    "    test_image_data.append(img_array)\n"
   ]
  },
  {
   "cell_type": "code",
   "execution_count": 42,
   "id": "a6c2431f",
   "metadata": {},
   "outputs": [],
   "source": [
    "test_image_data = np.array(test_image_data, dtype='float32') / 255.0"
   ]
  },
  {
   "cell_type": "code",
   "execution_count": 49,
   "id": "be2b8a8d",
   "metadata": {},
   "outputs": [
    {
     "name": "stdout",
     "output_type": "stream",
     "text": [
      "(123, 3072) 123\n"
     ]
    }
   ],
   "source": [
    "print(test_image_data.shape, test_mapping.size)"
   ]
  },
  {
   "cell_type": "code",
   "execution_count": 45,
   "id": "4c7f1b30",
   "metadata": {},
   "outputs": [],
   "source": [
    "M_ = test_image_data.shape[0] \n",
    "test_image_data = test_image_data.reshape(M_,-1)"
   ]
  },
  {
   "cell_type": "code",
   "execution_count": 47,
   "id": "2c24508f",
   "metadata": {},
   "outputs": [
    {
     "data": {
      "text/plain": [
       "array([[9.2303715e-05, 9.2303715e-05, 9.2303715e-05, ..., 9.2303715e-05,\n",
       "        9.2303715e-05, 9.2303715e-05],\n",
       "       [8.0646918e-05, 8.0646918e-05, 8.0646918e-05, ..., 8.0646918e-05,\n",
       "        8.0646918e-05, 8.0646918e-05],\n",
       "       [9.8270735e-05, 9.8270735e-05, 9.8270735e-05, ..., 9.8270735e-05,\n",
       "        9.8270735e-05, 9.8270735e-05],\n",
       "       ...,\n",
       "       [7.5248776e-05, 7.5248776e-05, 7.5248776e-05, ..., 7.5248776e-05,\n",
       "        7.5248776e-05, 7.5248776e-05],\n",
       "       [2.0718835e-05, 5.5250228e-05, 4.6185738e-05, ..., 7.4242496e-05,\n",
       "        8.9349975e-05, 3.8416172e-05],\n",
       "       [6.2177380e-05, 6.2177380e-05, 6.2177380e-05, ..., 8.5565207e-06,\n",
       "        8.5565207e-06, 8.5565207e-06]], dtype=float32)"
      ]
     },
     "execution_count": 47,
     "metadata": {},
     "output_type": "execute_result"
    }
   ],
   "source": [
    "test_image_data"
   ]
  },
  {
   "cell_type": "code",
   "execution_count": 60,
   "id": "ec964c68",
   "metadata": {},
   "outputs": [],
   "source": [
    "output = []"
   ]
  },
  {
   "cell_type": "code",
   "execution_count": 55,
   "id": "59c8c2ea",
   "metadata": {},
   "outputs": [
    {
     "data": {
      "text/plain": [
       "'Bulbasaur'"
      ]
     },
     "execution_count": 55,
     "metadata": {},
     "output_type": "execute_result"
    }
   ],
   "source": [
    "test_labels_dict[svm_classifier.predict(test_image_data[0].reshape(1, -1))[0]]"
   ]
  },
  {
   "cell_type": "code",
   "execution_count": 61,
   "id": "79ad9888",
   "metadata": {},
   "outputs": [],
   "source": [
    "for i in range(test_mapping.size):\n",
    "    output.append([test_mapping[i][0], test_labels_dict[svm_classifier.predict(test_image_data[i].reshape(1, -1))[0]]])"
   ]
  },
  {
   "cell_type": "code",
   "execution_count": 62,
   "id": "f978f96e",
   "metadata": {},
   "outputs": [
    {
     "data": {
      "text/plain": [
       "[['1106.jpg', 'Bulbasaur'],\n",
       " ['2236.jpg', 'Charmander'],\n",
       " ['1131.jpg', 'Bulbasaur'],\n",
       " ['2221.jpg', 'Charmander'],\n",
       " ['2011.jpg', 'Pikachu'],\n",
       " ['2030.jpg', 'Pikachu'],\n",
       " ['2035.jpg', 'Pikachu'],\n",
       " ['1110.jpg', 'Bulbasaur'],\n",
       " ['1104.jpg', 'Bulbasaur'],\n",
       " ['2217.jpg', 'Charmander'],\n",
       " ['1111.jpg', 'Bulbasaur'],\n",
       " ['1100.jpg', 'Bulbasaur'],\n",
       " ['1112.jpg', 'Bulbasaur'],\n",
       " ['1138.jpg', 'Bulbasaur'],\n",
       " ['2238.jpg', 'Charmander'],\n",
       " ['2009.jpg', 'Bulbasaur'],\n",
       " ['2225.jpg', 'Charmander'],\n",
       " ['2240.jpg', 'Charmander'],\n",
       " ['2020.jpg', 'Pikachu'],\n",
       " ['2209.jpg', 'Charmander'],\n",
       " ['2029.jpg', 'Pikachu'],\n",
       " ['1114.jpg', 'Bulbasaur'],\n",
       " ['2201.jpg', 'Charmander'],\n",
       " ['1118.jpg', 'Bulbasaur'],\n",
       " ['2025.jpg', 'Charmander'],\n",
       " ['2202.jpg', 'Charmander'],\n",
       " ['1117.jpg', 'Bulbasaur'],\n",
       " ['1119.jpg', 'Bulbasaur'],\n",
       " ['2000.jpg', 'Pikachu'],\n",
       " ['2007.jpg', 'Pikachu'],\n",
       " ['2039.jpg', 'Pikachu'],\n",
       " ['2017.jpg', 'Pikachu'],\n",
       " ['2215.jpg', 'Charmander'],\n",
       " ['1120.jpg', 'Bulbasaur'],\n",
       " ['2006.jpg', 'Pikachu'],\n",
       " ['1116.jpg', 'Bulbasaur'],\n",
       " ['1128.jpg', 'Bulbasaur'],\n",
       " ['1125.jpg', 'Bulbasaur'],\n",
       " ['2203.jpg', 'Charmander'],\n",
       " ['1133.jpg', 'Bulbasaur'],\n",
       " ['1137.jpg', 'Bulbasaur'],\n",
       " ['2220.jpg', 'Charmander'],\n",
       " ['2012.jpg', 'Pikachu'],\n",
       " ['2224.jpg', 'Charmander'],\n",
       " ['2206.jpg', 'Charmander'],\n",
       " ['1122.jpg', 'Bulbasaur'],\n",
       " ['2223.jpg', 'Charmander'],\n",
       " ['1102.jpg', 'Bulbasaur'],\n",
       " ['2234.jpg', 'Charmander'],\n",
       " ['2216.jpg', 'Charmander'],\n",
       " ['2016.jpg', 'Pikachu'],\n",
       " ['2227.jpg', 'Charmander'],\n",
       " ['2013.jpg', 'Pikachu'],\n",
       " ['1113.jpg', 'Bulbasaur'],\n",
       " ['2204.jpg', 'Charmander'],\n",
       " ['1101.jpg', 'Bulbasaur'],\n",
       " ['2208.jpg', 'Charmander'],\n",
       " ['2024.jpg', 'Pikachu'],\n",
       " ['2031.jpg', 'Pikachu'],\n",
       " ['2222.jpg', 'Charmander'],\n",
       " ['2211.jpg', 'Charmander'],\n",
       " ['2033.jpg', 'Pikachu'],\n",
       " ['2213.jpg', 'Charmander'],\n",
       " ['2231.jpg', 'Charmander'],\n",
       " ['2001.jpg', 'Pikachu'],\n",
       " ['2040.jpg', 'Pikachu'],\n",
       " ['1127.jpg', 'Bulbasaur'],\n",
       " ['2023.jpg', 'Pikachu'],\n",
       " ['2015.jpg', 'Pikachu'],\n",
       " ['1121.jpg', 'Bulbasaur'],\n",
       " ['2232.jpg', 'Charmander'],\n",
       " ['1139.jpg', 'Bulbasaur'],\n",
       " ['1103.jpg', 'Bulbasaur'],\n",
       " ['2018.jpg', 'Pikachu'],\n",
       " ['2233.jpg', 'Charmander'],\n",
       " ['2212.jpg', 'Charmander'],\n",
       " ['2210.jpg', 'Charmander'],\n",
       " ['2228.jpg', 'Charmander'],\n",
       " ['2026.jpg', 'Pikachu'],\n",
       " ['1132.jpg', 'Bulbasaur'],\n",
       " ['2003.jpg', 'Pikachu'],\n",
       " ['1129.jpg', 'Bulbasaur'],\n",
       " ['2214.jpg', 'Charmander'],\n",
       " ['1123.jpg', 'Bulbasaur'],\n",
       " ['2004.jpg', 'Pikachu'],\n",
       " ['1136.jpg', 'Bulbasaur'],\n",
       " ['1140.jpg', 'Bulbasaur'],\n",
       " ['2226.jpg', 'Charmander'],\n",
       " ['2230.jpg', 'Charmander'],\n",
       " ['1135.jpg', 'Bulbasaur'],\n",
       " ['1105.jpg', 'Bulbasaur'],\n",
       " ['2237.jpg', 'Charmander'],\n",
       " ['1109.jpg', 'Bulbasaur'],\n",
       " ['2022.jpg', 'Pikachu'],\n",
       " ['2005.jpg', 'Pikachu'],\n",
       " ['2218.jpg', 'Charmander'],\n",
       " ['2036.jpg', 'Pikachu'],\n",
       " ['1115.jpg', 'Bulbasaur'],\n",
       " ['2032.jpg', 'Pikachu'],\n",
       " ['2200.jpg', 'Charmander'],\n",
       " ['1134.jpg', 'Bulbasaur'],\n",
       " ['1130.jpg', 'Bulbasaur'],\n",
       " ['1107.jpg', 'Bulbasaur'],\n",
       " ['2034.jpg', 'Pikachu'],\n",
       " ['2205.jpg', 'Charmander'],\n",
       " ['2008.jpg', 'Pikachu'],\n",
       " ['2027.jpg', 'Pikachu'],\n",
       " ['2028.jpg', 'Pikachu'],\n",
       " ['2239.jpg', 'Charmander'],\n",
       " ['1108.jpg', 'Bulbasaur'],\n",
       " ['2010.jpg', 'Pikachu'],\n",
       " ['2229.jpg', 'Charmander'],\n",
       " ['2219.jpg', 'Charmander'],\n",
       " ['2019.jpg', 'Charmander'],\n",
       " ['2207.jpg', 'Charmander'],\n",
       " ['2002.jpg', 'Pikachu'],\n",
       " ['2037.jpg', 'Pikachu'],\n",
       " ['2038.jpg', 'Pikachu'],\n",
       " ['1124.jpg', 'Bulbasaur'],\n",
       " ['2014.jpg', 'Pikachu'],\n",
       " ['2235.jpg', 'Charmander'],\n",
       " ['1126.jpg', 'Bulbasaur'],\n",
       " ['2021.jpg', 'Pikachu']]"
      ]
     },
     "execution_count": 62,
     "metadata": {},
     "output_type": "execute_result"
    }
   ],
   "source": [
    "output"
   ]
  },
  {
   "cell_type": "code",
   "execution_count": 65,
   "id": "a6964fc7",
   "metadata": {},
   "outputs": [],
   "source": [
    "output_1 = np.array(output)"
   ]
  },
  {
   "cell_type": "code",
   "execution_count": 66,
   "id": "58532916",
   "metadata": {},
   "outputs": [
    {
     "data": {
      "text/plain": [
       "array([['1106.jpg', 'Bulbasaur'],\n",
       "       ['2236.jpg', 'Charmander'],\n",
       "       ['1131.jpg', 'Bulbasaur'],\n",
       "       ['2221.jpg', 'Charmander'],\n",
       "       ['2011.jpg', 'Pikachu'],\n",
       "       ['2030.jpg', 'Pikachu'],\n",
       "       ['2035.jpg', 'Pikachu'],\n",
       "       ['1110.jpg', 'Bulbasaur'],\n",
       "       ['1104.jpg', 'Bulbasaur'],\n",
       "       ['2217.jpg', 'Charmander'],\n",
       "       ['1111.jpg', 'Bulbasaur'],\n",
       "       ['1100.jpg', 'Bulbasaur'],\n",
       "       ['1112.jpg', 'Bulbasaur'],\n",
       "       ['1138.jpg', 'Bulbasaur'],\n",
       "       ['2238.jpg', 'Charmander'],\n",
       "       ['2009.jpg', 'Bulbasaur'],\n",
       "       ['2225.jpg', 'Charmander'],\n",
       "       ['2240.jpg', 'Charmander'],\n",
       "       ['2020.jpg', 'Pikachu'],\n",
       "       ['2209.jpg', 'Charmander'],\n",
       "       ['2029.jpg', 'Pikachu'],\n",
       "       ['1114.jpg', 'Bulbasaur'],\n",
       "       ['2201.jpg', 'Charmander'],\n",
       "       ['1118.jpg', 'Bulbasaur'],\n",
       "       ['2025.jpg', 'Charmander'],\n",
       "       ['2202.jpg', 'Charmander'],\n",
       "       ['1117.jpg', 'Bulbasaur'],\n",
       "       ['1119.jpg', 'Bulbasaur'],\n",
       "       ['2000.jpg', 'Pikachu'],\n",
       "       ['2007.jpg', 'Pikachu'],\n",
       "       ['2039.jpg', 'Pikachu'],\n",
       "       ['2017.jpg', 'Pikachu'],\n",
       "       ['2215.jpg', 'Charmander'],\n",
       "       ['1120.jpg', 'Bulbasaur'],\n",
       "       ['2006.jpg', 'Pikachu'],\n",
       "       ['1116.jpg', 'Bulbasaur'],\n",
       "       ['1128.jpg', 'Bulbasaur'],\n",
       "       ['1125.jpg', 'Bulbasaur'],\n",
       "       ['2203.jpg', 'Charmander'],\n",
       "       ['1133.jpg', 'Bulbasaur'],\n",
       "       ['1137.jpg', 'Bulbasaur'],\n",
       "       ['2220.jpg', 'Charmander'],\n",
       "       ['2012.jpg', 'Pikachu'],\n",
       "       ['2224.jpg', 'Charmander'],\n",
       "       ['2206.jpg', 'Charmander'],\n",
       "       ['1122.jpg', 'Bulbasaur'],\n",
       "       ['2223.jpg', 'Charmander'],\n",
       "       ['1102.jpg', 'Bulbasaur'],\n",
       "       ['2234.jpg', 'Charmander'],\n",
       "       ['2216.jpg', 'Charmander'],\n",
       "       ['2016.jpg', 'Pikachu'],\n",
       "       ['2227.jpg', 'Charmander'],\n",
       "       ['2013.jpg', 'Pikachu'],\n",
       "       ['1113.jpg', 'Bulbasaur'],\n",
       "       ['2204.jpg', 'Charmander'],\n",
       "       ['1101.jpg', 'Bulbasaur'],\n",
       "       ['2208.jpg', 'Charmander'],\n",
       "       ['2024.jpg', 'Pikachu'],\n",
       "       ['2031.jpg', 'Pikachu'],\n",
       "       ['2222.jpg', 'Charmander'],\n",
       "       ['2211.jpg', 'Charmander'],\n",
       "       ['2033.jpg', 'Pikachu'],\n",
       "       ['2213.jpg', 'Charmander'],\n",
       "       ['2231.jpg', 'Charmander'],\n",
       "       ['2001.jpg', 'Pikachu'],\n",
       "       ['2040.jpg', 'Pikachu'],\n",
       "       ['1127.jpg', 'Bulbasaur'],\n",
       "       ['2023.jpg', 'Pikachu'],\n",
       "       ['2015.jpg', 'Pikachu'],\n",
       "       ['1121.jpg', 'Bulbasaur'],\n",
       "       ['2232.jpg', 'Charmander'],\n",
       "       ['1139.jpg', 'Bulbasaur'],\n",
       "       ['1103.jpg', 'Bulbasaur'],\n",
       "       ['2018.jpg', 'Pikachu'],\n",
       "       ['2233.jpg', 'Charmander'],\n",
       "       ['2212.jpg', 'Charmander'],\n",
       "       ['2210.jpg', 'Charmander'],\n",
       "       ['2228.jpg', 'Charmander'],\n",
       "       ['2026.jpg', 'Pikachu'],\n",
       "       ['1132.jpg', 'Bulbasaur'],\n",
       "       ['2003.jpg', 'Pikachu'],\n",
       "       ['1129.jpg', 'Bulbasaur'],\n",
       "       ['2214.jpg', 'Charmander'],\n",
       "       ['1123.jpg', 'Bulbasaur'],\n",
       "       ['2004.jpg', 'Pikachu'],\n",
       "       ['1136.jpg', 'Bulbasaur'],\n",
       "       ['1140.jpg', 'Bulbasaur'],\n",
       "       ['2226.jpg', 'Charmander'],\n",
       "       ['2230.jpg', 'Charmander'],\n",
       "       ['1135.jpg', 'Bulbasaur'],\n",
       "       ['1105.jpg', 'Bulbasaur'],\n",
       "       ['2237.jpg', 'Charmander'],\n",
       "       ['1109.jpg', 'Bulbasaur'],\n",
       "       ['2022.jpg', 'Pikachu'],\n",
       "       ['2005.jpg', 'Pikachu'],\n",
       "       ['2218.jpg', 'Charmander'],\n",
       "       ['2036.jpg', 'Pikachu'],\n",
       "       ['1115.jpg', 'Bulbasaur'],\n",
       "       ['2032.jpg', 'Pikachu'],\n",
       "       ['2200.jpg', 'Charmander'],\n",
       "       ['1134.jpg', 'Bulbasaur'],\n",
       "       ['1130.jpg', 'Bulbasaur'],\n",
       "       ['1107.jpg', 'Bulbasaur'],\n",
       "       ['2034.jpg', 'Pikachu'],\n",
       "       ['2205.jpg', 'Charmander'],\n",
       "       ['2008.jpg', 'Pikachu'],\n",
       "       ['2027.jpg', 'Pikachu'],\n",
       "       ['2028.jpg', 'Pikachu'],\n",
       "       ['2239.jpg', 'Charmander'],\n",
       "       ['1108.jpg', 'Bulbasaur'],\n",
       "       ['2010.jpg', 'Pikachu'],\n",
       "       ['2229.jpg', 'Charmander'],\n",
       "       ['2219.jpg', 'Charmander'],\n",
       "       ['2019.jpg', 'Charmander'],\n",
       "       ['2207.jpg', 'Charmander'],\n",
       "       ['2002.jpg', 'Pikachu'],\n",
       "       ['2037.jpg', 'Pikachu'],\n",
       "       ['2038.jpg', 'Pikachu'],\n",
       "       ['1124.jpg', 'Bulbasaur'],\n",
       "       ['2014.jpg', 'Pikachu'],\n",
       "       ['2235.jpg', 'Charmander'],\n",
       "       ['1126.jpg', 'Bulbasaur'],\n",
       "       ['2021.jpg', 'Pikachu']], dtype='<U10')"
      ]
     },
     "execution_count": 66,
     "metadata": {},
     "output_type": "execute_result"
    }
   ],
   "source": [
    "output_1"
   ]
  },
  {
   "cell_type": "code",
   "execution_count": 67,
   "id": "705bb03e",
   "metadata": {},
   "outputs": [],
   "source": [
    "out_df = pd.DataFrame(output_1, columns=['ImageId', 'NameOfPokemon'])\n",
    "out_df.to_csv('outputfile.csv', index=False, index_label=False)"
   ]
  }
 ],
 "metadata": {
  "kernelspec": {
   "display_name": "Python 3",
   "language": "python",
   "name": "python3"
  },
  "language_info": {
   "codemirror_mode": {
    "name": "ipython",
    "version": 3
   },
   "file_extension": ".py",
   "mimetype": "text/x-python",
   "name": "python",
   "nbconvert_exporter": "python",
   "pygments_lexer": "ipython3",
   "version": "3.8.8"
  }
 },
 "nbformat": 4,
 "nbformat_minor": 5
}
