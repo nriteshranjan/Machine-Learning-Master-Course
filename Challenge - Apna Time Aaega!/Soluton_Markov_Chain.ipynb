{
  "nbformat": 4,
  "nbformat_minor": 0,
  "metadata": {
    "colab": {
      "name": "Soluton-Markov Chain.ipynb",
      "provenance": []
    },
    "kernelspec": {
      "name": "python3",
      "display_name": "Python 3"
    },
    "language_info": {
      "name": "python"
    },
    "accelerator": "TPU"
  },
  "cells": [
    {
      "cell_type": "code",
      "metadata": {
        "id": "rxrmbB1XVfMS"
      },
      "source": [
        "import numpy as np\n",
        "import pandas as pd"
      ],
      "execution_count": 2,
      "outputs": []
    },
    {
      "cell_type": "code",
      "metadata": {
        "id": "8ZtvUfrik2D3"
      },
      "source": [
        "text_path=\"Apna Time Aayega.txt\"\n",
        "def load_text(file_name):\n",
        "    with open(file_name,encoding='utf8') as f:\n",
        "        return f.read().lower()"
      ],
      "execution_count": 3,
      "outputs": []
    },
    {
      "cell_type": "code",
      "metadata": {
        "id": "e8bwOb-2k35T"
      },
      "source": [
        "text=load_text(text_path)"
      ],
      "execution_count": 6,
      "outputs": []
    },
    {
      "cell_type": "code",
      "metadata": {
        "colab": {
          "base_uri": "https://localhost:8080/"
        },
        "id": "7ApM4juFk8Zs",
        "outputId": "8e05f96a-80d6-4516-b9de-bd11a31170eb"
      },
      "source": [
        "print(text)"
      ],
      "execution_count": 7,
      "outputs": [
        {
          "output_type": "stream",
          "text": [
            "apna time aayega\n",
            "uth ja apni raakh se\n",
            "tu udd ja ab talaash mein\n",
            "parwaaz dekh parwane ki\n",
            "aasman bhi sar uthayega\n",
            "aayega apna time aayega\n",
            "mere jaisa shaana lala\n",
            "tujhe na mil payega\n",
            " \n",
            "yeh shabdon ka jwala\n",
            "meri bediyan pighlayega\n",
            "jitna toone boya hai tu\n",
            "utna hi to khaayega\n",
            "aisa mera khwaab hai\n",
            "jo darr ko bhi satayega\n",
            "zinda mera khwaab\n",
            "ab kaise tu dafnayega\n",
            " \n",
            "ab hausle se jeene de\n",
            "ab khauf nahi hai seene mein\n",
            "har raaste ko cheerenge\n",
            "hum kaamyabi chheenenge\n",
            "sab kuchh mila paseene se\n",
            "matlab bana ab jeene mein\n",
            " \n",
            "kyon\n",
            "kyon ki apna time aayega\n",
            " \n",
            "tu nanga hi to aaya hai\n",
            "kya ghanta lekar jaayega\n",
            "apna time aayega\n",
            "apna time aayega\n",
            "apna time aayega x (2)\n",
            " \n",
            "tu nanga hi to aaya hai\n",
            "kya ghanta lekar..\n",
            " \n",
            "kissi ka hath nahi tha sar par\n",
            "yahaan par aaya khud ki mehnat se main\n",
            "jitni taakat kismat mein nahi\n",
            "utni rehmat mein hai\n",
            "phir bhi ladka sehmat nahin hai\n",
            "kyon ki hairat nahi hai\n",
            "zaroorat yahaan marzi ki\n",
            "aur jurrat ki hai\n",
            " \n",
            "taakat ki hai, aafat ki\n",
            "himaakat ki, ibaadat ki\n",
            "adalat yeh hai chahat ki\n",
            "mohobbat ki, amaanat ki\n",
            "jeetne ki ab aadat ki hai\n",
            "shohrat ki ab laalach nai hai\n",
            "tere bhai jaisa koyi hard’ch nai hai\n",
            " \n",
            "iss harkat ne hi barkat di hai\n",
            "kyon?\n",
            " \n",
            "tu nanga hi to aaya hai\n",
            "kya ghanta lekar jaayega\n",
            "apna time aayega\n",
            "apna time aayega\n",
            "apna time aayega\n",
            " \n",
            "tu nanga hi to aaya hai\n",
            "kya ghanta lekar jaayega\n",
            "kya tu ghanta lekar jaayega\n",
            "apna time aayega\n",
            "apna time aayega\n"
          ],
          "name": "stdout"
        }
      ]
    },
    {
      "cell_type": "code",
      "metadata": {
        "id": "nnSS2wbMkRtC"
      },
      "source": [
        "def generate_table(data,k=4):\n",
        "    \n",
        "    T={}\n",
        "    for i in range(len(data)-k):\n",
        "        X=data[i:i+k]\n",
        "        Y=data[i+k]\n",
        "        \n",
        "        if T.get(X) is None:\n",
        "            T[X]={}\n",
        "            T[X][Y]=1\n",
        "        else:\n",
        "            if T[X].get(Y) is None:\n",
        "                T[X][Y]=1\n",
        "            else:\n",
        "                T[X][Y]+=1\n",
        "    return T\n",
        "\n",
        "def convert_freq_into_prob(T):\n",
        "    for kx in T.keys():\n",
        "        s=float(sum(T[kx].values()))\n",
        "        for k in T[kx].keys():\n",
        "            T[kx][k]=T[kx][k]/s\n",
        "    return T\n",
        "\n",
        "def TrainMarkovChain(text,k=4):\n",
        "    T=generate_table(text,k)\n",
        "    T=convert_freq_into_prob(T)\n",
        "    \n",
        "    return T"
      ],
      "execution_count": 8,
      "outputs": []
    },
    {
      "cell_type": "code",
      "metadata": {
        "id": "GqL8zd5nkTCO"
      },
      "source": [
        "model=TrainMarkovChain(text)"
      ],
      "execution_count": 9,
      "outputs": []
    },
    {
      "cell_type": "code",
      "metadata": {
        "id": "PhMAeCOKlNni"
      },
      "source": [
        "np.random.seed(11)"
      ],
      "execution_count": 10,
      "outputs": []
    },
    {
      "cell_type": "code",
      "metadata": {
        "id": "w8A1VYMwleN-"
      },
      "source": [
        "def sample_next(ctx,T,k):\n",
        "    ctx=ctx[-k:]\n",
        "    \n",
        "    if T.get(ctx) is None:\n",
        "        return \" \"\n",
        "    possible_chars=list(T[ctx].keys())\n",
        "    possible_values=list(T[ctx].values())\n",
        "    \n",
        "    return np.random.choice(possible_chars,p=possible_values)"
      ],
      "execution_count": 11,
      "outputs": []
    },
    {
      "cell_type": "code",
      "metadata": {
        "colab": {
          "base_uri": "https://localhost:8080/",
          "height": 35
        },
        "id": "0ruMFHLDl2L8",
        "outputId": "648f9e24-4ff9-4d14-95e8-2227c4e5910c"
      },
      "source": [
        "sample_next(\"pna \",model,4)"
      ],
      "execution_count": 12,
      "outputs": [
        {
          "output_type": "execute_result",
          "data": {
            "application/vnd.google.colaboratory.intrinsic+json": {
              "type": "string"
            },
            "text/plain": [
              "'t'"
            ]
          },
          "metadata": {
            "tags": []
          },
          "execution_count": 12
        }
      ]
    },
    {
      "cell_type": "code",
      "metadata": {
        "id": "5IU3QsQKl7hz"
      },
      "source": [
        "def generate_text(starting_sent,models,k=4,max_length=1000):\n",
        "    sentence=starting_sent\n",
        "    ctx=starting_sent[-k:]\n",
        "    np.random.seed(11)\n",
        "    for ix in range(max_length):\n",
        "        next_prediction = sample_next(ctx,models,k)\n",
        "        sentence+=next_prediction\n",
        "        ctx=sentence[-k:]\n",
        "    return sentence"
      ],
      "execution_count": 13,
      "outputs": []
    },
    {
      "cell_type": "code",
      "metadata": {
        "id": "JShzSZK8mBav"
      },
      "source": [
        "text_pred= generate_text(\"apna\",model,k=4,max_length=2000)"
      ],
      "execution_count": 14,
      "outputs": []
    },
    {
      "cell_type": "code",
      "metadata": {
        "colab": {
          "base_uri": "https://localhost:8080/"
        },
        "id": "xq95dDBomDjD",
        "outputId": "39edcec4-8f99-4178-deab-2fc401a7c190"
      },
      "source": [
        "print(text_pred)"
      ],
      "execution_count": 15,
      "outputs": [
        {
          "output_type": "stream",
          "text": [
            "apna time aaya hath nahi\n",
            "utna hi to aaya hai seene se\n",
            "matlab bana lala\n",
            "mere bhai tu\n",
            "utna time aaya hai\n",
            "phir bhi satayega\n",
            "zinda mera khud ki hai, amaana lala\n",
            "tujhe na mila paseene se jeenenge\n",
            "sab kuchh mil payega\n",
            "jitni rehmat mein\n",
            "har raakh se\n",
            "tu nanga hi to khauf nahin hai jaisa koyi hai seene mein nahi hai\n",
            "kyon ki ab laalach nai hai\n",
            "kya ghanta lekar jaayega\n",
            "kya tu dafnayega\n",
            "apna time aayega\n",
            "kya tu ghanta lekar..\n",
            " \n",
            "kyon\n",
            "kyon ka hai\n",
            "kya ghanta lekar jaayega\n",
            "apna time aayega\n",
            "zinda mera khwaab hai chheene mein\n",
            " \n",
            "kyon ki hai jaisa shaan pighlayega\n",
            "jitni taakat ne hi barkat ki mehnat ki, amaana ab talaash mein\n",
            "parwane ki hai\n",
            "jo darr ko bhi ladka sehmat mein nahi\n",
            "utna hi to khaayega\n",
            " \n",
            "yeh shabdon ka hai\n",
            "zaroorat ki\n",
            "himaakat di hairat ki, ibaadat ki hai\n",
            "kya ghanta lekar jaayega\n",
            "apna time aayega\n",
            " \n",
            "tu nanga hi barkat ki\n",
            "adalat yahaan par\n",
            "yahaan marzi ki\n",
            "jeetne ki\n",
            "jeetne ki mehnat se main\n",
            "jitna hi to aayega\n",
            " \n",
            "ab hai\n",
            "kya tu dafnayega\n",
            "mere jaisa mera khud ki hai\n",
            "kya ghanta lekar jaayega\n",
            "kya tu ghanta lekar..\n",
            " \n",
            "kissi ka hai\n",
            "kya ghanta lekar..\n",
            " \n",
            "kissi ka jwala\n",
            "meri bediyan parwaaz dekh par aaya hai\n",
            "kya ghanta lekar jaayega\n",
            "aayega\n",
            "apna time aayega\n",
            "aayega\n",
            "apna time aaya hath nai hai\n",
            "zaroorat ki\n",
            "mohobbat ki, aafat ki hai jaisa shaanat ki\n",
            "aur jurrat yahaan marzi ki\n",
            "adalat yeh shabdon ki ab aadat ki apna time aaya khwaab\n",
            "ab kaise tu ghanta lekar jaayega\n",
            "uth ja ab jeene mein hai\n",
            "phir bhi sar uthayega\n",
            " \n",
            "taakat ki\n",
            "himaakat ki mehnat se main\n",
            "jitna time aayega\n",
            "apna time aayega\n",
            "apna time aaya hai\n",
            " \n",
            "iss hard’ch nai hai\n",
            "kyon\n",
            "kyon\n",
            "kyon\n",
            "kyon ki mehnat se main\n",
            "jitna time aayega\n",
            "apna toone boya hai\n",
            "kyon ka jwala\n",
            "mere jaisa shaan pighlayega\n",
            "zinda mera khud ki ab talaash mein\n",
            "parwaaz dekh par\n",
            "yahaan pighlayega\n",
            "apna time aayega\n",
            " \n",
            "ab kuchh mil payega\n",
            "aisa mera khwaab\n",
            "ab kuchh mila paseene mein hai\n",
            "shohrat ki ab aadat ki\n",
            "adalat yahaana ab aadat ki\n",
            "mohobbat ki apna time aayega\n",
            "zinda mera khwaab hausle se main\n",
            "jitni taakat ne hi tha sar uthayega\n",
            "meri bediyan pighlayega\n",
            " \n",
            "tu nanga hi to aaya hai\n",
            "phir bhi lad\n"
          ],
          "name": "stdout"
        }
      ]
    },
    {
      "cell_type": "code",
      "metadata": {
        "id": "iPO49Y5WmJZy"
      },
      "source": [
        "f=open(\"text_prediction1.txt\",\"w\",encoding = \"utf8\")\n",
        "f.write(text_pred)\n",
        "f.close()"
      ],
      "execution_count": 17,
      "outputs": []
    },
    {
      "cell_type": "code",
      "metadata": {
        "id": "gVZ5XMvImQeQ"
      },
      "source": [
        ""
      ],
      "execution_count": null,
      "outputs": []
    }
  ]
}