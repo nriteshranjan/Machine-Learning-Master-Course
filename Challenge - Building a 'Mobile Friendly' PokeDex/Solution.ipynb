{
 "cells": [
  {
   "cell_type": "code",
   "execution_count": 45,
   "id": "3c81dfbe",
   "metadata": {},
   "outputs": [],
   "source": [
    "import os\n",
    "import shutil\n",
    "import keras\n",
    "import numpy as np\n",
    "import pandas as pd\n",
    "from keras import models\n",
    "from keras.layers import *\n",
    "import matplotlib.pyplot as plt\n",
    "from keras.optimizers import Adam\n",
    "from keras.preprocessing import image\n",
    "from keras.applications.mobilenet_v2 import MobileNetV2\n",
    "from keras.preprocessing.image import ImageDataGenerator"
   ]
  },
  {
   "cell_type": "code",
   "execution_count": 4,
   "id": "9370037b",
   "metadata": {},
   "outputs": [
    {
     "name": "stdout",
     "output_type": "stream",
     "text": [
      "WARNING:tensorflow:`input_shape` is undefined or non-square, or `rows` is not in [96, 128, 160, 192, 224]. Weights for input shape (224, 224) will be loaded as the default.\n",
      "Downloading data from https://storage.googleapis.com/tensorflow/keras-applications/mobilenet_v2/mobilenet_v2_weights_tf_dim_ordering_tf_kernels_1.0_224_no_top.h5\n",
      "9412608/9406464 [==============================] - 21s 2us/step\n"
     ]
    }
   ],
   "source": [
    "model = MobileNetV2(include_top=False, weights='imagenet')"
   ]
  },
  {
   "cell_type": "markdown",
   "id": "88e93509",
   "metadata": {},
   "source": [
    "### Data Preparation"
   ]
  },
  {
   "cell_type": "code",
   "execution_count": 13,
   "id": "50cc04f5",
   "metadata": {},
   "outputs": [
    {
     "name": "stdout",
     "output_type": "stream",
     "text": [
      "['Aerodactyl', 'Bulbasaur', 'Charmander', 'Dratini', 'Fearow', 'Meowth', 'Pikachu', 'Psyduck', 'Spearow', 'Squirtle']\n"
     ]
    }
   ],
   "source": [
    "folders = os.listdir('train')\n",
    "print(folders)"
   ]
  },
  {
   "cell_type": "code",
   "execution_count": 14,
   "id": "24d06e56",
   "metadata": {},
   "outputs": [],
   "source": [
    "if not os.path.isdir('val_images'):\n",
    "    os.mkdir('val_images')"
   ]
  },
  {
   "cell_type": "code",
   "execution_count": 15,
   "id": "8077c81d",
   "metadata": {},
   "outputs": [],
   "source": [
    "classes = list(folders)"
   ]
  },
  {
   "cell_type": "code",
   "execution_count": 21,
   "id": "748fab80",
   "metadata": {},
   "outputs": [],
   "source": [
    "for c in classes:\n",
    "    p = os.path.join('val_images', c)\n",
    "    if not os.path.isdir(p):\n",
    "        os.mkdir(p)"
   ]
  },
  {
   "cell_type": "code",
   "execution_count": 22,
   "id": "02d126b6",
   "metadata": {},
   "outputs": [],
   "source": [
    "SPLIT = 0.9"
   ]
  },
  {
   "cell_type": "code",
   "execution_count": 28,
   "id": "575cfcac",
   "metadata": {},
   "outputs": [],
   "source": [
    "for f in folders:\n",
    "    path = \"train/\" + f\n",
    "    imgs = os.listdir(path)\n",
    "    split_size = int(SPLIT * len(imgs))\n",
    "    files_to_move = imgs[split_size:]\n",
    "    for img_f in files_to_move:\n",
    "        src = os.path.join(path, img_f)\n",
    "        dest = os.path.join('val_images/' + f, img_f)\n",
    "        shutil.move(src, dest)"
   ]
  },
  {
   "cell_type": "markdown",
   "id": "bc8fb757",
   "metadata": {},
   "source": [
    "### Creating train and val generator"
   ]
  },
  {
   "cell_type": "code",
   "execution_count": 48,
   "id": "885efe43",
   "metadata": {},
   "outputs": [],
   "source": [
    "train_gen = ImageDataGenerator(rescale=1/255.0,\n",
    "                               rotation_range=40, \n",
    "                               width_shift_range=0.2,\n",
    "                               height_shift_range=0.2,\n",
    "                               zoom_range=0.3,\n",
    "                               shear_range=0.2,\n",
    "                               horizontal_flip=True\n",
    "                                )\n",
    "val_gen = ImageDataGenerator(rescale=1/255.0)"
   ]
  },
  {
   "cell_type": "code",
   "execution_count": 49,
   "id": "ebe40139",
   "metadata": {},
   "outputs": [
    {
     "name": "stdout",
     "output_type": "stream",
     "text": [
      "Found 1473 images belonging to 10 classes.\n",
      "Found 169 images belonging to 10 classes.\n"
     ]
    }
   ],
   "source": [
    "train_generator = train_gen.flow_from_directory('train/',\n",
    "                                               target_size=((224, 224)),\n",
    "                                               batch_size=32,\n",
    "                                               class_mode='categorical'\n",
    "                                               )\n",
    "val_generator = val_gen.flow_from_directory('val_images/',\n",
    "                                               target_size=((224, 224)),\n",
    "                                               batch_size=32,\n",
    "                                               class_mode='categorical'\n",
    "                                               )"
   ]
  },
  {
   "cell_type": "code",
   "execution_count": 50,
   "id": "f80cca2f",
   "metadata": {},
   "outputs": [
    {
     "name": "stdout",
     "output_type": "stream",
     "text": [
      "{'Aerodactyl': 0, 'Bulbasaur': 1, 'Charmander': 2, 'Dratini': 3, 'Fearow': 4, 'Meowth': 5, 'Pikachu': 6, 'Psyduck': 7, 'Spearow': 8, 'Squirtle': 9}\n",
      "{'Aerodactyl': 0, 'Bulbasaur': 1, 'Charmander': 2, 'Dratini': 3, 'Fearow': 4, 'Meowth': 5, 'Pikachu': 6, 'Psyduck': 7, 'Spearow': 8, 'Squirtle': 9}\n"
     ]
    }
   ],
   "source": [
    "print(train_generator.class_indices, val_generator.class_indices, sep='\\n')"
   ]
  },
  {
   "cell_type": "markdown",
   "id": "1d9aefc8",
   "metadata": {},
   "source": [
    "### Preparing the model by fine tuning"
   ]
  },
  {
   "cell_type": "code",
   "execution_count": 51,
   "id": "4ac41cb7",
   "metadata": {},
   "outputs": [],
   "source": [
    "model = models.Sequential()\n",
    "\n",
    "model.add(Conv2D(32,(3,3),activation='relu',input_shape=(224,224,3)))\n",
    "model.add(MaxPool2D(2,2))\n",
    "\n",
    "model.add(Conv2D(64,(3,3),activation='relu'))\n",
    "model.add(MaxPooling2D(pool_size=(2,2)))\n",
    "\n",
    "model.add(Conv2D(64,(3,3),activation='relu'))\n",
    "model.add(MaxPooling2D(pool_size=(2,2)))\n",
    "\n",
    "model.add(Conv2D(128,(3,3),activation='relu'))\n",
    "model.add(MaxPooling2D(pool_size=(2,2)))\n",
    "model.add(BatchNormalization())\n",
    "model.add(Dropout(0.25))\n",
    "\n",
    "model.add(Flatten())\n",
    "model.add(Dense(64,activation='relu'))\n",
    "model.add(Dropout(0.2))\n",
    "model.add(Dense(10,activation='softmax'))"
   ]
  },
  {
   "cell_type": "code",
   "execution_count": 52,
   "id": "a2b9d3f4",
   "metadata": {},
   "outputs": [
    {
     "name": "stdout",
     "output_type": "stream",
     "text": [
      "Model: \"sequential_2\"\n",
      "_________________________________________________________________\n",
      "Layer (type)                 Output Shape              Param #   \n",
      "=================================================================\n",
      "conv2d_4 (Conv2D)            (None, 222, 222, 32)      896       \n",
      "_________________________________________________________________\n",
      "max_pooling2d_4 (MaxPooling2 (None, 111, 111, 32)      0         \n",
      "_________________________________________________________________\n",
      "conv2d_5 (Conv2D)            (None, 109, 109, 64)      18496     \n",
      "_________________________________________________________________\n",
      "max_pooling2d_5 (MaxPooling2 (None, 54, 54, 64)        0         \n",
      "_________________________________________________________________\n",
      "conv2d_6 (Conv2D)            (None, 52, 52, 64)        36928     \n",
      "_________________________________________________________________\n",
      "max_pooling2d_6 (MaxPooling2 (None, 26, 26, 64)        0         \n",
      "_________________________________________________________________\n",
      "conv2d_7 (Conv2D)            (None, 24, 24, 128)       73856     \n",
      "_________________________________________________________________\n",
      "max_pooling2d_7 (MaxPooling2 (None, 12, 12, 128)       0         \n",
      "_________________________________________________________________\n",
      "batch_normalization_1 (Batch (None, 12, 12, 128)       512       \n",
      "_________________________________________________________________\n",
      "dropout_2 (Dropout)          (None, 12, 12, 128)       0         \n",
      "_________________________________________________________________\n",
      "flatten_1 (Flatten)          (None, 18432)             0         \n",
      "_________________________________________________________________\n",
      "dense_2 (Dense)              (None, 64)                1179712   \n",
      "_________________________________________________________________\n",
      "dropout_3 (Dropout)          (None, 64)                0         \n",
      "_________________________________________________________________\n",
      "dense_3 (Dense)              (None, 10)                650       \n",
      "=================================================================\n",
      "Total params: 1,311,050\n",
      "Trainable params: 1,310,794\n",
      "Non-trainable params: 256\n",
      "_________________________________________________________________\n"
     ]
    }
   ],
   "source": [
    "model.summary()"
   ]
  },
  {
   "cell_type": "code",
   "execution_count": 53,
   "id": "39d9082f",
   "metadata": {},
   "outputs": [],
   "source": [
    "model.compile(loss=keras.losses.categorical_crossentropy,optimizer='adam',metrics=['accuracy'])"
   ]
  },
  {
   "cell_type": "code",
   "execution_count": 55,
   "id": "52b7f46e",
   "metadata": {},
   "outputs": [
    {
     "name": "stdout",
     "output_type": "stream",
     "text": [
      "Epoch 1/40\n",
      "47/47 [==============================] - 221s 5s/step - loss: 1.4787 - accuracy: 0.5078 - val_loss: 2.1474 - val_accuracy: 0.2544\n",
      "Epoch 2/40\n",
      "47/47 [==============================] - 232s 5s/step - loss: 1.3174 - accuracy: 0.5580 - val_loss: 2.2083 - val_accuracy: 0.1834\n",
      "Epoch 3/40\n",
      "47/47 [==============================] - 262s 5s/step - loss: 1.2737 - accuracy: 0.5675 - val_loss: 2.0619 - val_accuracy: 0.4083\n",
      "Epoch 4/40\n",
      "47/47 [==============================] - 215s 5s/step - loss: 1.1204 - accuracy: 0.6314 - val_loss: 1.9259 - val_accuracy: 0.3964\n",
      "Epoch 5/40\n",
      "47/47 [==============================] - 186s 4s/step - loss: 1.0811 - accuracy: 0.6456 - val_loss: 1.8449 - val_accuracy: 0.4260\n",
      "Epoch 6/40\n",
      "47/47 [==============================] - 182s 4s/step - loss: 1.0957 - accuracy: 0.6253 - val_loss: 1.7493 - val_accuracy: 0.4970\n",
      "Epoch 7/40\n",
      "47/47 [==============================] - 203s 4s/step - loss: 1.0393 - accuracy: 0.6714 - val_loss: 1.7118 - val_accuracy: 0.5385\n",
      "Epoch 8/40\n",
      "47/47 [==============================] - 201s 4s/step - loss: 0.9684 - accuracy: 0.6802 - val_loss: 1.6997 - val_accuracy: 0.5030\n",
      "Epoch 9/40\n",
      "47/47 [==============================] - 244s 5s/step - loss: 0.8926 - accuracy: 0.7176 - val_loss: 1.6018 - val_accuracy: 0.4320\n",
      "Epoch 10/40\n",
      "47/47 [==============================] - 221s 5s/step - loss: 1.0253 - accuracy: 0.6551 - val_loss: 1.3211 - val_accuracy: 0.5680\n",
      "Epoch 11/40\n",
      "47/47 [==============================] - 199s 4s/step - loss: 0.9255 - accuracy: 0.6877 - val_loss: 1.1812 - val_accuracy: 0.5858\n",
      "Epoch 12/40\n",
      "47/47 [==============================] - 195s 4s/step - loss: 0.8227 - accuracy: 0.7278 - val_loss: 1.1025 - val_accuracy: 0.5917\n",
      "Epoch 13/40\n",
      "47/47 [==============================] - 197s 4s/step - loss: 0.8325 - accuracy: 0.7088 - val_loss: 0.8613 - val_accuracy: 0.7041\n",
      "Epoch 14/40\n",
      "47/47 [==============================] - 198s 4s/step - loss: 0.8315 - accuracy: 0.7094 - val_loss: 1.1997 - val_accuracy: 0.5680\n",
      "Epoch 15/40\n",
      "47/47 [==============================] - 219s 5s/step - loss: 0.8383 - accuracy: 0.7278 - val_loss: 0.9653 - val_accuracy: 0.7219\n",
      "Epoch 16/40\n",
      "47/47 [==============================] - 290s 6s/step - loss: 0.8206 - accuracy: 0.7284 - val_loss: 1.3223 - val_accuracy: 0.5917\n",
      "Epoch 17/40\n",
      "47/47 [==============================] - 182s 4s/step - loss: 0.8549 - accuracy: 0.7108 - val_loss: 1.1427 - val_accuracy: 0.6036\n",
      "Epoch 18/40\n",
      "47/47 [==============================] - 184s 4s/step - loss: 0.8380 - accuracy: 0.7230 - val_loss: 0.8464 - val_accuracy: 0.6627\n",
      "Epoch 19/40\n",
      "47/47 [==============================] - 181s 4s/step - loss: 0.7408 - accuracy: 0.7529 - val_loss: 0.8781 - val_accuracy: 0.6391\n",
      "Epoch 20/40\n",
      "47/47 [==============================] - 202s 4s/step - loss: 0.7258 - accuracy: 0.7515 - val_loss: 0.8474 - val_accuracy: 0.6982\n",
      "Epoch 21/40\n",
      "47/47 [==============================] - 210s 4s/step - loss: 0.7232 - accuracy: 0.7739 - val_loss: 0.9203 - val_accuracy: 0.6923\n",
      "Epoch 22/40\n",
      "47/47 [==============================] - 197s 4s/step - loss: 0.7003 - accuracy: 0.7529 - val_loss: 1.1596 - val_accuracy: 0.6923\n",
      "Epoch 23/40\n",
      "47/47 [==============================] - 193s 4s/step - loss: 0.7422 - accuracy: 0.7590 - val_loss: 0.8292 - val_accuracy: 0.7101\n",
      "Epoch 24/40\n",
      "47/47 [==============================] - 221s 5s/step - loss: 0.7136 - accuracy: 0.7651 - val_loss: 1.7949 - val_accuracy: 0.5385\n",
      "Epoch 25/40\n",
      "47/47 [==============================] - 306s 7s/step - loss: 0.7461 - accuracy: 0.7434 - val_loss: 0.9171 - val_accuracy: 0.7278\n",
      "Epoch 26/40\n",
      "47/47 [==============================] - 297s 6s/step - loss: 0.6391 - accuracy: 0.7841 - val_loss: 0.8783 - val_accuracy: 0.7456\n",
      "Epoch 27/40\n",
      "47/47 [==============================] - 308s 7s/step - loss: 0.6503 - accuracy: 0.7977 - val_loss: 1.0038 - val_accuracy: 0.6746\n",
      "Epoch 28/40\n",
      "47/47 [==============================] - 273s 6s/step - loss: 0.6507 - accuracy: 0.7855 - val_loss: 0.8592 - val_accuracy: 0.7160\n",
      "Epoch 29/40\n",
      "47/47 [==============================] - 415s 9s/step - loss: 0.6432 - accuracy: 0.7916 - val_loss: 0.8207 - val_accuracy: 0.7337\n",
      "Epoch 30/40\n",
      "47/47 [==============================] - 384s 8s/step - loss: 0.7063 - accuracy: 0.7658 - val_loss: 0.9492 - val_accuracy: 0.7692\n",
      "Epoch 31/40\n",
      "47/47 [==============================] - 407s 9s/step - loss: 0.6101 - accuracy: 0.7963 - val_loss: 1.3714 - val_accuracy: 0.6805\n",
      "Epoch 32/40\n",
      "47/47 [==============================] - 312s 7s/step - loss: 0.7287 - accuracy: 0.7631 - val_loss: 1.0266 - val_accuracy: 0.7101\n",
      "Epoch 33/40\n",
      "47/47 [==============================] - 214s 5s/step - loss: 0.6488 - accuracy: 0.7936 - val_loss: 1.2482 - val_accuracy: 0.6272\n",
      "Epoch 34/40\n",
      "47/47 [==============================] - 205s 4s/step - loss: 0.7457 - accuracy: 0.7495 - val_loss: 0.9967 - val_accuracy: 0.7337\n",
      "Epoch 35/40\n",
      "47/47 [==============================] - 227s 5s/step - loss: 0.6398 - accuracy: 0.7834 - val_loss: 1.0566 - val_accuracy: 0.7160\n",
      "Epoch 36/40\n",
      "47/47 [==============================] - 205s 4s/step - loss: 0.5944 - accuracy: 0.7916 - val_loss: 0.8768 - val_accuracy: 0.7633\n",
      "Epoch 37/40\n",
      "47/47 [==============================] - 197s 4s/step - loss: 0.5971 - accuracy: 0.8004 - val_loss: 2.1502 - val_accuracy: 0.6213\n",
      "Epoch 38/40\n",
      "47/47 [==============================] - 203s 4s/step - loss: 0.6894 - accuracy: 0.7637 - val_loss: 1.2051 - val_accuracy: 0.6805\n",
      "Epoch 39/40\n",
      "47/47 [==============================] - 201s 4s/step - loss: 0.6590 - accuracy: 0.7848 - val_loss: 0.9228 - val_accuracy: 0.7456\n",
      "Epoch 40/40\n",
      "47/47 [==============================] - 342s 7s/step - loss: 0.6213 - accuracy: 0.7895 - val_loss: 1.0140 - val_accuracy: 0.6509\n"
     ]
    }
   ],
   "source": [
    "hist = model.fit_generator(\n",
    "    train_generator,\n",
    "    steps_per_epoch=47,\n",
    "    epochs=40,\n",
    "    validation_data=val_generator,\n",
    "    validation_steps=6\n",
    ")"
   ]
  },
  {
   "cell_type": "code",
   "execution_count": 56,
   "id": "2d86b4f2",
   "metadata": {},
   "outputs": [
    {
     "data": {
      "image/png": "[encoded data removed]",
      "text/plain": [
       "<Figure size 576x396 with 1 Axes>"
      ]
     },
     "metadata": {},
     "output_type": "display_data"
    }
   ],
   "source": [
    "plt.style.use(\"seaborn\")\n",
    "\n",
    "plt.plot(hist.history['accuracy'],label=\"training acc\",c='red')\n",
    "plt.plot(hist.history['val_accuracy'],label=\"validation acc\",c='blue')\n",
    "plt.legend()\n",
    "plt.show()"
   ]
  },
  {
   "cell_type": "markdown",
   "id": "5e9f40fd",
   "metadata": {},
   "source": [
    "## Loading test data and Getting predictions"
   ]
  },
  {
   "cell_type": "code",
   "execution_count": 77,
   "id": "5d4fa2f2",
   "metadata": {},
   "outputs": [
    {
     "data": {
      "text/plain": [
       "(187, 2)"
      ]
     },
     "execution_count": 77,
     "metadata": {},
     "output_type": "execute_result"
    }
   ],
   "source": [
    "path = \"Test/\"\n",
    "y_df = pd.read_csv(path+\"sample_submission.csv\")\n",
    "y_df.shape"
   ]
  },
  {
   "cell_type": "code",
   "execution_count": 78,
   "id": "8d005ed7",
   "metadata": {},
   "outputs": [
    {
     "data": {
      "text/html": [
       "<div>\n",
       "<style scoped>\n",
       "    .dataframe tbody tr th:only-of-type {\n",
       "        vertical-align: middle;\n",
       "    }\n",
       "\n",
       "    .dataframe tbody tr th {\n",
       "        vertical-align: top;\n",
       "    }\n",
       "\n",
       "    .dataframe thead th {\n",
       "        text-align: right;\n",
       "    }\n",
       "</style>\n",
       "<table border=\"1\" class=\"dataframe\">\n",
       "  <thead>\n",
       "    <tr style=\"text-align: right;\">\n",
       "      <th></th>\n",
       "      <th>Name</th>\n",
       "      <th>Class</th>\n",
       "    </tr>\n",
       "  </thead>\n",
       "  <tbody>\n",
       "    <tr>\n",
       "      <th>0</th>\n",
       "      <td>test_32.jpg</td>\n",
       "      <td>0</td>\n",
       "    </tr>\n",
       "    <tr>\n",
       "      <th>1</th>\n",
       "      <td>test_147.jpg</td>\n",
       "      <td>0</td>\n",
       "    </tr>\n",
       "    <tr>\n",
       "      <th>2</th>\n",
       "      <td>test_171.jpg</td>\n",
       "      <td>0</td>\n",
       "    </tr>\n",
       "    <tr>\n",
       "      <th>3</th>\n",
       "      <td>test_114.jpg</td>\n",
       "      <td>0</td>\n",
       "    </tr>\n",
       "    <tr>\n",
       "      <th>4</th>\n",
       "      <td>test_162.jpg</td>\n",
       "      <td>0</td>\n",
       "    </tr>\n",
       "  </tbody>\n",
       "</table>\n",
       "</div>"
      ],
      "text/plain": [
       "           Name  Class\n",
       "0   test_32.jpg      0\n",
       "1  test_147.jpg      0\n",
       "2  test_171.jpg      0\n",
       "3  test_114.jpg      0\n",
       "4  test_162.jpg      0"
      ]
     },
     "execution_count": 78,
     "metadata": {},
     "output_type": "execute_result"
    }
   ],
   "source": [
    "y_df.head()"
   ]
  },
  {
   "cell_type": "code",
   "execution_count": 79,
   "id": "908d4461",
   "metadata": {},
   "outputs": [],
   "source": [
    "y_df.drop(['Class'],inplace=True,axis=1)"
   ]
  },
  {
   "cell_type": "code",
   "execution_count": 80,
   "id": "ddce1c14",
   "metadata": {},
   "outputs": [
    {
     "name": "stdout",
     "output_type": "stream",
     "text": [
      "(187,)\n"
     ]
    }
   ],
   "source": [
    "y_df=y_df.values.reshape((-1,))\n",
    "print(y_df.shape)"
   ]
  },
  {
   "cell_type": "code",
   "execution_count": 105,
   "id": "96991279",
   "metadata": {},
   "outputs": [],
   "source": [
    "from pathlib import Path\n",
    "pi_test=Path(\"Test/images/\")\n",
    "\n",
    "image_data_test=[]\n",
    "label_test=[]\n",
    "\n",
    "for image_path in pi_test.glob(\"*\"):\n",
    "    label=(str(image_path).split(\"\\\\\")[-1])\n",
    "    img=image.load_img(image_path,target_size=(224,224,3))\n",
    "    image_array=image.img_to_array(img)/255.0\n",
    "    image_data_test.append(image_array)\n",
    "    label_test.append(label)"
   ]
  },
  {
   "cell_type": "code",
   "execution_count": 106,
   "id": "7ddf2847",
   "metadata": {},
   "outputs": [],
   "source": [
    "image_data_test=np.array(image_data_test)"
   ]
  },
  {
   "cell_type": "code",
   "execution_count": 107,
   "id": "23702d68",
   "metadata": {},
   "outputs": [
    {
     "name": "stdout",
     "output_type": "stream",
     "text": [
      "(187, 224, 224, 3)\n",
      "187\n"
     ]
    }
   ],
   "source": [
    "print(image_data_test.shape, len(label_test), sep='\\n')"
   ]
  },
  {
   "cell_type": "code",
   "execution_count": 108,
   "id": "fc0f716a",
   "metadata": {},
   "outputs": [
    {
     "name": "stderr",
     "output_type": "stream",
     "text": [
      "C:\\Users\\rrite\\anaconda3\\lib\\site-packages\\tensorflow\\python\\keras\\engine\\sequential.py:450: UserWarning: `model.predict_classes()` is deprecated and will be removed after 2021-01-01. Please use instead:* `np.argmax(model.predict(x), axis=-1)`,   if your model does multi-class classification   (e.g. if it uses a `softmax` last-layer activation).* `(model.predict(x) > 0.5).astype(\"int32\")`,   if your model does binary classification   (e.g. if it uses a `sigmoid` last-layer activation).\n",
      "  warnings.warn('`model.predict_classes()` is deprecated and '\n"
     ]
    },
    {
     "data": {
      "text/plain": [
       "array([0, 0, 1, 6, 6, 6, 6, 7, 6, 6, 6, 1, 6, 1, 6, 6, 6, 6, 6, 6, 6, 6,\n",
       "       6, 6, 1, 6, 6, 8, 6, 6, 6, 8, 5, 5, 6, 1, 7, 7, 7, 7, 7, 4, 5, 7,\n",
       "       4, 7, 1, 7, 8, 7, 3, 7, 7, 8, 4, 8, 8, 1, 8, 0, 4, 8, 8, 7, 8, 8,\n",
       "       8, 5, 1, 9, 5, 8, 0, 9, 8, 4, 9, 9, 9, 1, 9, 1, 0, 9, 1, 9, 7, 1,\n",
       "       9, 9, 1, 9, 9, 7, 9, 2, 0, 9, 1, 0, 1, 1, 1, 1, 1, 1, 1, 1, 1, 1,\n",
       "       0, 1, 1, 1, 1, 1, 1, 1, 1, 1, 2, 0, 2, 2, 2, 5, 4, 4, 2, 2, 2, 2,\n",
       "       0, 2, 2, 2, 4, 2, 2, 4, 2, 2, 2, 0, 2, 9, 2, 2, 2, 2, 2, 2, 2, 3,\n",
       "       0, 3, 3, 3, 0, 0, 3, 1, 3, 3, 0, 0, 0, 9, 4, 0, 4, 4, 4, 4, 7, 4,\n",
       "       0, 4, 5, 4, 8, 5, 5, 5, 5, 8, 5], dtype=int64)"
      ]
     },
     "execution_count": 108,
     "metadata": {},
     "output_type": "execute_result"
    }
   ],
   "source": [
    "y_predicted=model.predict_classes(image_data_test)\n",
    "y_predicted"
   ]
  },
  {
   "cell_type": "code",
   "execution_count": 110,
   "id": "069f3de8",
   "metadata": {},
   "outputs": [],
   "source": [
    "y_pre=[]\n",
    "for i in range(image_data_test.shape[0]):\n",
    "    index=label_test.index(y_df[i])\n",
    "    y=y_predicted[index]\n",
    "    y_pre.append((y_df[i],y))"
   ]
  },
  {
   "cell_type": "code",
   "execution_count": 112,
   "id": "7dcc5438",
   "metadata": {},
   "outputs": [],
   "source": [
    "y_pre=np.array(y_pre)"
   ]
  },
  {
   "cell_type": "code",
   "execution_count": 114,
   "id": "865d1eb4",
   "metadata": {},
   "outputs": [],
   "source": [
    "df_pre=pd.DataFrame(data=y_pre,columns=['Name','Class'])"
   ]
  },
  {
   "cell_type": "code",
   "execution_count": 115,
   "id": "499f12d0",
   "metadata": {},
   "outputs": [],
   "source": [
    "df_pre.to_csv('y_predict_of_pokedex_learning_own_features1.csv',index=False)"
   ]
  },
  {
   "cell_type": "code",
   "execution_count": null,
   "id": "9ae2740c",
   "metadata": {},
   "outputs": [],
   "source": []
  }
 ],
 "metadata": {
  "kernelspec": {
   "display_name": "Python 3",
   "language": "python",
   "name": "python3"
  },
  "language_info": {
   "codemirror_mode": {
    "name": "ipython",
    "version": 3
   },
   "file_extension": ".py",
   "mimetype": "text/x-python",
   "name": "python",
   "nbconvert_exporter": "python",
   "pygments_lexer": "ipython3",
   "version": "3.8.8"
  }
 },
 "nbformat": 4,
 "nbformat_minor": 5
}
