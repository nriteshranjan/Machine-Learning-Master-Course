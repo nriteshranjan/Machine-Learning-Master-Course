{
  "nbformat": 4,
  "nbformat_minor": 0,
  "metadata": {
    "colab": {
      "name": "Solution-Challenge - Building a 'Mobile Friendly' PokeDex.ipynb",
      "provenance": [],
      "collapsed_sections": []
    },
    "kernelspec": {
      "name": "python3",
      "display_name": "Python 3"
    },
    "language_info": {
      "name": "python"
    },
    "accelerator": "GPU"
  },
  "cells": [
    {
      "cell_type": "code",
      "metadata": {
        "id": "xaOlESVTD-bi"
      },
      "source": [
        "import os\n",
        "import shutil\n",
        "import keras\n",
        "import numpy as np\n",
        "import pandas as pd\n",
        "from keras import models\n",
        "from keras.layers import *\n",
        "import matplotlib.pyplot as plt\n",
        "from keras.optimizers import Adam\n",
        "from keras.preprocessing import image\n",
        "from keras.callbacks import ModelCheckpoint\n",
        "from keras.applications.mobilenet_v2 import MobileNetV2\n",
        "from keras.preprocessing.image import ImageDataGenerator"
      ],
      "execution_count": 1,
      "outputs": []
    },
    {
      "cell_type": "code",
      "metadata": {
        "colab": {
          "base_uri": "https://localhost:8080/"
        },
        "id": "ZQjFF4EsENgh",
        "outputId": "1462eedc-c36c-4a06-b993-ae734066700c"
      },
      "source": [
        "model = MobileNetV2(include_top=False, weights='imagenet')"
      ],
      "execution_count": 2,
      "outputs": [
        {
          "output_type": "stream",
          "text": [
            "WARNING:tensorflow:`input_shape` is undefined or non-square, or `rows` is not in [96, 128, 160, 192, 224]. Weights for input shape (224, 224) will be loaded as the default.\n",
            "Downloading data from https://storage.googleapis.com/tensorflow/keras-applications/mobilenet_v2/mobilenet_v2_weights_tf_dim_ordering_tf_kernels_1.0_224_no_top.h5\n",
            "9412608/9406464 [==============================] - 0s 0us/step\n"
          ],
          "name": "stdout"
        }
      ]
    },
    {
      "cell_type": "code",
      "metadata": {
        "colab": {
          "base_uri": "https://localhost:8080/"
        },
        "id": "1iI1lV7TET29",
        "outputId": "a30020bc-9e9c-453c-b809-59a4b92ae33b"
      },
      "source": [
        "from google.colab import drive\n",
        "drive.mount('/content/gdrive')"
      ],
      "execution_count": 3,
      "outputs": [
        {
          "output_type": "stream",
          "text": [
            "Mounted at /content/gdrive\n"
          ],
          "name": "stdout"
        }
      ]
    },
    {
      "cell_type": "code",
      "metadata": {
        "colab": {
          "base_uri": "https://localhost:8080/",
          "height": 35
        },
        "id": "uAxZlc1y2Z99",
        "outputId": "c4325b2b-7710-4e00-8725-e1ede6c12b6a"
      },
      "source": [
        "shutil.copy(\"/content/gdrive/MyDrive/Data.zip\", \"/content/Dataset/\")"
      ],
      "execution_count": 7,
      "outputs": [
        {
          "output_type": "execute_result",
          "data": {
            "application/vnd.google.colaboratory.intrinsic+json": {
              "type": "string"
            },
            "text/plain": [
              "'/content/Dataset/Data.zip'"
            ]
          },
          "metadata": {
            "tags": []
          },
          "execution_count": 7
        }
      ]
    },
    {
      "cell_type": "code",
      "metadata": {
        "id": "Fu7pO2wG208J"
      },
      "source": [
        "!unzip /content/Dataset/Data.zip"
      ],
      "execution_count": null,
      "outputs": []
    },
    {
      "cell_type": "markdown",
      "metadata": {
        "id": "e7TTpLd76_Yy"
      },
      "source": [
        "### Creating train and val generator"
      ]
    },
    {
      "cell_type": "code",
      "metadata": {
        "id": "lKTfBbj_6QrX"
      },
      "source": [
        "train_gen = ImageDataGenerator(rescale=1/255.0,\n",
        "                               rotation_range=40, \n",
        "                               width_shift_range=0.2,\n",
        "                               height_shift_range=0.2,\n",
        "                               zoom_range=0.3,\n",
        "                               shear_range=0.2,\n",
        "                               horizontal_flip=True\n",
        "                                )\n",
        "val_gen = ImageDataGenerator(rescale=1/255.0)"
      ],
      "execution_count": 9,
      "outputs": []
    },
    {
      "cell_type": "code",
      "metadata": {
        "colab": {
          "base_uri": "https://localhost:8080/"
        },
        "id": "_C_yv_-g6l9x",
        "outputId": "1f91e26b-4860-47bd-bbcb-6f36c487bdac"
      },
      "source": [
        "train_generator = train_gen.flow_from_directory('Train/',\n",
        "                                               target_size=((224, 224)),\n",
        "                                               batch_size=32,\n",
        "                                               class_mode='categorical'\n",
        "                                               )\n",
        "val_generator = val_gen.flow_from_directory('val_images/',\n",
        "                                               target_size=((224, 224)),\n",
        "                                               batch_size=32,\n",
        "                                               class_mode='categorical'\n",
        "                                               )"
      ],
      "execution_count": 10,
      "outputs": [
        {
          "output_type": "stream",
          "text": [
            "Found 1473 images belonging to 10 classes.\n",
            "Found 169 images belonging to 10 classes.\n"
          ],
          "name": "stdout"
        }
      ]
    },
    {
      "cell_type": "code",
      "metadata": {
        "colab": {
          "base_uri": "https://localhost:8080/"
        },
        "id": "AJzM-Q226qK7",
        "outputId": "d5873444-fe87-45fc-abb8-525a352b2a0b"
      },
      "source": [
        "print(train_generator.class_indices, val_generator.class_indices, sep='\\n')"
      ],
      "execution_count": 9,
      "outputs": [
        {
          "output_type": "stream",
          "text": [
            "{'Aerodactyl': 0, 'Bulbasaur': 1, 'Charmander': 2, 'Dratini': 3, 'Fearow': 4, 'Meowth': 5, 'Pikachu': 6, 'Psyduck': 7, 'Spearow': 8, 'Squirtle': 9}\n",
            "{'Aerodactyl': 0, 'Bulbasaur': 1, 'Charmander': 2, 'Dratini': 3, 'Fearow': 4, 'Meowth': 5, 'Pikachu': 6, 'Psyduck': 7, 'Spearow': 8, 'Squirtle': 9}\n"
          ],
          "name": "stdout"
        }
      ]
    },
    {
      "cell_type": "markdown",
      "metadata": {
        "id": "nO9gIEHz65TP"
      },
      "source": [
        "### Preparing the model by fine tuning"
      ]
    },
    {
      "cell_type": "code",
      "metadata": {
        "id": "9KwTJOBG67Py"
      },
      "source": [
        "model = models.Sequential()\n",
        "\n",
        "model.add(Conv2D(32,(3,3),activation='relu',input_shape=(224,224,3)))\n",
        "model.add(MaxPool2D(2,2))\n",
        "\n",
        "model.add(Conv2D(64,(3,3),activation='relu'))\n",
        "model.add(MaxPooling2D(pool_size=(2,2)))\n",
        "\n",
        "model.add(Conv2D(64,(3,3),activation='relu'))\n",
        "model.add(MaxPooling2D(pool_size=(2,2)))\n",
        "\n",
        "model.add(Conv2D(128,(3,3),activation='relu'))\n",
        "model.add(MaxPooling2D(pool_size=(2,2)))\n",
        "model.add(BatchNormalization())\n",
        "model.add(Dropout(0.25))\n",
        "\n",
        "model.add(Flatten())\n",
        "model.add(Dense(64,activation='relu'))\n",
        "model.add(Dropout(0.2))\n",
        "model.add(Dense(10,activation='softmax'))"
      ],
      "execution_count": 19,
      "outputs": []
    },
    {
      "cell_type": "code",
      "metadata": {
        "colab": {
          "base_uri": "https://localhost:8080/"
        },
        "id": "yXBFOkEu7G4u",
        "outputId": "4ab72621-29ff-45c1-aab3-767ba871fceb"
      },
      "source": [
        "model.summary()"
      ],
      "execution_count": 21,
      "outputs": [
        {
          "output_type": "stream",
          "text": [
            "Model: \"sequential_1\"\n",
            "_________________________________________________________________\n",
            "Layer (type)                 Output Shape              Param #   \n",
            "=================================================================\n",
            "conv2d_4 (Conv2D)            (None, 222, 222, 32)      896       \n",
            "_________________________________________________________________\n",
            "max_pooling2d_4 (MaxPooling2 (None, 111, 111, 32)      0         \n",
            "_________________________________________________________________\n",
            "conv2d_5 (Conv2D)            (None, 109, 109, 64)      18496     \n",
            "_________________________________________________________________\n",
            "max_pooling2d_5 (MaxPooling2 (None, 54, 54, 64)        0         \n",
            "_________________________________________________________________\n",
            "conv2d_6 (Conv2D)            (None, 52, 52, 64)        36928     \n",
            "_________________________________________________________________\n",
            "max_pooling2d_6 (MaxPooling2 (None, 26, 26, 64)        0         \n",
            "_________________________________________________________________\n",
            "conv2d_7 (Conv2D)            (None, 24, 24, 128)       73856     \n",
            "_________________________________________________________________\n",
            "max_pooling2d_7 (MaxPooling2 (None, 12, 12, 128)       0         \n",
            "_________________________________________________________________\n",
            "batch_normalization_1 (Batch (None, 12, 12, 128)       512       \n",
            "_________________________________________________________________\n",
            "dropout_2 (Dropout)          (None, 12, 12, 128)       0         \n",
            "_________________________________________________________________\n",
            "flatten_1 (Flatten)          (None, 18432)             0         \n",
            "_________________________________________________________________\n",
            "dense_2 (Dense)              (None, 64)                1179712   \n",
            "_________________________________________________________________\n",
            "dropout_3 (Dropout)          (None, 64)                0         \n",
            "_________________________________________________________________\n",
            "dense_3 (Dense)              (None, 10)                650       \n",
            "=================================================================\n",
            "Total params: 1,311,050\n",
            "Trainable params: 1,310,794\n",
            "Non-trainable params: 256\n",
            "_________________________________________________________________\n"
          ],
          "name": "stdout"
        }
      ]
    },
    {
      "cell_type": "code",
      "metadata": {
        "id": "qfQt0VBn7Ib1"
      },
      "source": [
        "model.compile(loss=keras.losses.categorical_crossentropy,optimizer='adam',metrics=['accuracy'])"
      ],
      "execution_count": 22,
      "outputs": []
    },
    {
      "cell_type": "code",
      "metadata": {
        "id": "gFMUgFLXByOo"
      },
      "source": [
        "# Save the checkpoint in the /output folder\n",
        "filepath = \"/output/best.hdf5\"\n",
        "\n",
        "# Keep only a single checkpoint, the best over test accuracy.\n",
        "checkpoint = ModelCheckpoint(filepath,\n",
        "                            monitor='val_accuracy',\n",
        "                            verbose=1,\n",
        "                            save_best_only=True,\n",
        "                            mode='max')"
      ],
      "execution_count": 23,
      "outputs": []
    },
    {
      "cell_type": "code",
      "metadata": {
        "colab": {
          "base_uri": "https://localhost:8080/"
        },
        "id": "QKEnhSTT7LpU",
        "outputId": "8fe0d371-5de2-4be8-c7c7-402c7ed152d7"
      },
      "source": [
        "hist = model.fit_generator(\n",
        "    train_generator,\n",
        "    steps_per_epoch=47,\n",
        "    epochs=60,\n",
        "    validation_data=val_generator,\n",
        "    validation_steps=6,\n",
        "    callbacks=[checkpoint]\n",
        ")"
      ],
      "execution_count": 24,
      "outputs": [
        {
          "output_type": "stream",
          "text": [
            "/usr/local/lib/python3.7/dist-packages/tensorflow/python/keras/engine/training.py:1844: UserWarning: `Model.fit_generator` is deprecated and will be removed in a future version. Please use `Model.fit`, which supports generators.\n",
            "  warnings.warn('`Model.fit_generator` is deprecated and '\n"
          ],
          "name": "stderr"
        },
        {
          "output_type": "stream",
          "text": [
            "Epoch 1/60\n"
          ],
          "name": "stdout"
        },
        {
          "output_type": "stream",
          "text": [
            "/usr/local/lib/python3.7/dist-packages/PIL/Image.py:960: UserWarning: Palette images with Transparency expressed in bytes should be converted to RGBA images\n",
            "  \"Palette images with Transparency expressed in bytes should be \"\n"
          ],
          "name": "stderr"
        },
        {
          "output_type": "stream",
          "text": [
            "47/47 [==============================] - 46s 954ms/step - loss: 2.1042 - accuracy: 0.3298 - val_loss: 2.1723 - val_accuracy: 0.1834\n",
            "\n",
            "Epoch 00001: val_accuracy improved from -inf to 0.18343, saving model to /output/best.hdf5\n",
            "Epoch 2/60\n",
            "47/47 [==============================] - 44s 931ms/step - loss: 1.4743 - accuracy: 0.5209 - val_loss: 2.1071 - val_accuracy: 0.3018\n",
            "\n",
            "Epoch 00002: val_accuracy improved from 0.18343 to 0.30178, saving model to /output/best.hdf5\n",
            "Epoch 3/60\n",
            "47/47 [==============================] - 44s 934ms/step - loss: 1.3129 - accuracy: 0.5752 - val_loss: 2.0364 - val_accuracy: 0.3136\n",
            "\n",
            "Epoch 00003: val_accuracy improved from 0.30178 to 0.31361, saving model to /output/best.hdf5\n",
            "Epoch 4/60\n",
            "47/47 [==============================] - 44s 916ms/step - loss: 1.2345 - accuracy: 0.6318 - val_loss: 2.0187 - val_accuracy: 0.3846\n",
            "\n",
            "Epoch 00004: val_accuracy improved from 0.31361 to 0.38462, saving model to /output/best.hdf5\n",
            "Epoch 5/60\n",
            "47/47 [==============================] - 44s 937ms/step - loss: 1.1699 - accuracy: 0.6167 - val_loss: 2.0009 - val_accuracy: 0.3964\n",
            "\n",
            "Epoch 00005: val_accuracy improved from 0.38462 to 0.39645, saving model to /output/best.hdf5\n",
            "Epoch 6/60\n",
            "47/47 [==============================] - 44s 938ms/step - loss: 1.0836 - accuracy: 0.6364 - val_loss: 1.8681 - val_accuracy: 0.4675\n",
            "\n",
            "Epoch 00006: val_accuracy improved from 0.39645 to 0.46746, saving model to /output/best.hdf5\n",
            "Epoch 7/60\n",
            "47/47 [==============================] - 44s 935ms/step - loss: 1.0086 - accuracy: 0.6576 - val_loss: 1.7320 - val_accuracy: 0.5444\n",
            "\n",
            "Epoch 00007: val_accuracy improved from 0.46746 to 0.54438, saving model to /output/best.hdf5\n",
            "Epoch 8/60\n",
            "47/47 [==============================] - 44s 940ms/step - loss: 0.9472 - accuracy: 0.6840 - val_loss: 1.7051 - val_accuracy: 0.5444\n",
            "\n",
            "Epoch 00008: val_accuracy did not improve from 0.54438\n",
            "Epoch 9/60\n",
            "47/47 [==============================] - 44s 929ms/step - loss: 0.9138 - accuracy: 0.6953 - val_loss: 1.4907 - val_accuracy: 0.5089\n",
            "\n",
            "Epoch 00009: val_accuracy did not improve from 0.54438\n",
            "Epoch 10/60\n",
            "47/47 [==============================] - 44s 928ms/step - loss: 0.9482 - accuracy: 0.6953 - val_loss: 1.3772 - val_accuracy: 0.6095\n",
            "\n",
            "Epoch 00010: val_accuracy improved from 0.54438 to 0.60947, saving model to /output/best.hdf5\n",
            "Epoch 11/60\n",
            "47/47 [==============================] - 44s 921ms/step - loss: 0.9047 - accuracy: 0.6891 - val_loss: 1.2629 - val_accuracy: 0.5858\n",
            "\n",
            "Epoch 00011: val_accuracy did not improve from 0.60947\n",
            "Epoch 12/60\n",
            "47/47 [==============================] - 44s 923ms/step - loss: 0.8318 - accuracy: 0.7237 - val_loss: 1.4011 - val_accuracy: 0.5503\n",
            "\n",
            "Epoch 00012: val_accuracy did not improve from 0.60947\n",
            "Epoch 13/60\n",
            "47/47 [==============================] - 44s 943ms/step - loss: 0.8873 - accuracy: 0.7158 - val_loss: 1.2764 - val_accuracy: 0.5385\n",
            "\n",
            "Epoch 00013: val_accuracy did not improve from 0.60947\n",
            "Epoch 14/60\n",
            "47/47 [==============================] - 45s 930ms/step - loss: 0.8271 - accuracy: 0.7187 - val_loss: 1.0055 - val_accuracy: 0.6805\n",
            "\n",
            "Epoch 00014: val_accuracy improved from 0.60947 to 0.68047, saving model to /output/best.hdf5\n",
            "Epoch 15/60\n",
            "47/47 [==============================] - 44s 937ms/step - loss: 0.7292 - accuracy: 0.7359 - val_loss: 1.0189 - val_accuracy: 0.6391\n",
            "\n",
            "Epoch 00015: val_accuracy did not improve from 0.68047\n",
            "Epoch 16/60\n",
            "47/47 [==============================] - 44s 933ms/step - loss: 0.7359 - accuracy: 0.7473 - val_loss: 0.8924 - val_accuracy: 0.6923\n",
            "\n",
            "Epoch 00016: val_accuracy improved from 0.68047 to 0.69231, saving model to /output/best.hdf5\n",
            "Epoch 17/60\n",
            "47/47 [==============================] - 44s 938ms/step - loss: 0.7159 - accuracy: 0.7687 - val_loss: 1.1767 - val_accuracy: 0.6331\n",
            "\n",
            "Epoch 00017: val_accuracy did not improve from 0.69231\n",
            "Epoch 18/60\n",
            "47/47 [==============================] - 44s 935ms/step - loss: 0.7382 - accuracy: 0.7506 - val_loss: 0.9531 - val_accuracy: 0.6982\n",
            "\n",
            "Epoch 00018: val_accuracy improved from 0.69231 to 0.69822, saving model to /output/best.hdf5\n",
            "Epoch 19/60\n",
            "47/47 [==============================] - 44s 930ms/step - loss: 0.6461 - accuracy: 0.7754 - val_loss: 0.8939 - val_accuracy: 0.6923\n",
            "\n",
            "Epoch 00019: val_accuracy did not improve from 0.69822\n",
            "Epoch 20/60\n",
            "47/47 [==============================] - 43s 923ms/step - loss: 0.6315 - accuracy: 0.7808 - val_loss: 0.7964 - val_accuracy: 0.7574\n",
            "\n",
            "Epoch 00020: val_accuracy improved from 0.69822 to 0.75740, saving model to /output/best.hdf5\n",
            "Epoch 21/60\n",
            "47/47 [==============================] - 43s 912ms/step - loss: 0.7166 - accuracy: 0.7554 - val_loss: 1.2093 - val_accuracy: 0.6864\n",
            "\n",
            "Epoch 00021: val_accuracy did not improve from 0.75740\n",
            "Epoch 22/60\n",
            "47/47 [==============================] - 43s 922ms/step - loss: 0.7045 - accuracy: 0.7588 - val_loss: 1.6134 - val_accuracy: 0.6686\n",
            "\n",
            "Epoch 00022: val_accuracy did not improve from 0.75740\n",
            "Epoch 23/60\n",
            "47/47 [==============================] - 43s 920ms/step - loss: 0.7194 - accuracy: 0.7641 - val_loss: 1.4670 - val_accuracy: 0.5621\n",
            "\n",
            "Epoch 00023: val_accuracy did not improve from 0.75740\n",
            "Epoch 24/60\n",
            "47/47 [==============================] - 43s 914ms/step - loss: 0.7130 - accuracy: 0.7589 - val_loss: 0.9072 - val_accuracy: 0.7219\n",
            "\n",
            "Epoch 00024: val_accuracy did not improve from 0.75740\n",
            "Epoch 25/60\n",
            "47/47 [==============================] - 43s 926ms/step - loss: 0.6976 - accuracy: 0.7740 - val_loss: 1.2300 - val_accuracy: 0.6805\n",
            "\n",
            "Epoch 00025: val_accuracy did not improve from 0.75740\n",
            "Epoch 26/60\n",
            "47/47 [==============================] - 44s 921ms/step - loss: 0.6954 - accuracy: 0.7776 - val_loss: 0.8671 - val_accuracy: 0.7456\n",
            "\n",
            "Epoch 00026: val_accuracy did not improve from 0.75740\n",
            "Epoch 27/60\n",
            "47/47 [==============================] - 44s 940ms/step - loss: 0.6185 - accuracy: 0.7991 - val_loss: 1.0589 - val_accuracy: 0.6509\n",
            "\n",
            "Epoch 00027: val_accuracy did not improve from 0.75740\n",
            "Epoch 28/60\n",
            "47/47 [==============================] - 44s 935ms/step - loss: 0.6242 - accuracy: 0.7853 - val_loss: 1.8298 - val_accuracy: 0.6746\n",
            "\n",
            "Epoch 00028: val_accuracy did not improve from 0.75740\n",
            "Epoch 29/60\n",
            "47/47 [==============================] - 44s 922ms/step - loss: 0.6107 - accuracy: 0.8124 - val_loss: 0.8902 - val_accuracy: 0.6864\n",
            "\n",
            "Epoch 00029: val_accuracy did not improve from 0.75740\n",
            "Epoch 30/60\n",
            "47/47 [==============================] - 44s 935ms/step - loss: 0.5887 - accuracy: 0.8134 - val_loss: 1.3634 - val_accuracy: 0.7160\n",
            "\n",
            "Epoch 00030: val_accuracy did not improve from 0.75740\n",
            "Epoch 31/60\n",
            "47/47 [==============================] - 44s 919ms/step - loss: 0.6522 - accuracy: 0.7826 - val_loss: 0.8083 - val_accuracy: 0.7751\n",
            "\n",
            "Epoch 00031: val_accuracy improved from 0.75740 to 0.77515, saving model to /output/best.hdf5\n",
            "Epoch 32/60\n",
            "47/47 [==============================] - 43s 912ms/step - loss: 0.6622 - accuracy: 0.7940 - val_loss: 0.9211 - val_accuracy: 0.7278\n",
            "\n",
            "Epoch 00032: val_accuracy did not improve from 0.77515\n",
            "Epoch 33/60\n",
            "47/47 [==============================] - 43s 909ms/step - loss: 0.5706 - accuracy: 0.8183 - val_loss: 0.6529 - val_accuracy: 0.7456\n",
            "\n",
            "Epoch 00033: val_accuracy did not improve from 0.77515\n",
            "Epoch 34/60\n",
            "47/47 [==============================] - 43s 908ms/step - loss: 0.5470 - accuracy: 0.8031 - val_loss: 0.9796 - val_accuracy: 0.7278\n",
            "\n",
            "Epoch 00034: val_accuracy did not improve from 0.77515\n",
            "Epoch 35/60\n",
            "47/47 [==============================] - 43s 909ms/step - loss: 0.5392 - accuracy: 0.8371 - val_loss: 1.2984 - val_accuracy: 0.6331\n",
            "\n",
            "Epoch 00035: val_accuracy did not improve from 0.77515\n",
            "Epoch 36/60\n",
            "47/47 [==============================] - 43s 915ms/step - loss: 0.6409 - accuracy: 0.7854 - val_loss: 1.3052 - val_accuracy: 0.7041\n",
            "\n",
            "Epoch 00036: val_accuracy did not improve from 0.77515\n",
            "Epoch 37/60\n",
            "47/47 [==============================] - 43s 915ms/step - loss: 0.5509 - accuracy: 0.8127 - val_loss: 0.9513 - val_accuracy: 0.7219\n",
            "\n",
            "Epoch 00037: val_accuracy did not improve from 0.77515\n",
            "Epoch 38/60\n",
            "47/47 [==============================] - 43s 920ms/step - loss: 0.6282 - accuracy: 0.8171 - val_loss: 0.7061 - val_accuracy: 0.7396\n",
            "\n",
            "Epoch 00038: val_accuracy did not improve from 0.77515\n",
            "Epoch 39/60\n",
            "47/47 [==============================] - 43s 919ms/step - loss: 0.4780 - accuracy: 0.8474 - val_loss: 0.7068 - val_accuracy: 0.7692\n",
            "\n",
            "Epoch 00039: val_accuracy did not improve from 0.77515\n",
            "Epoch 40/60\n",
            "47/47 [==============================] - 43s 902ms/step - loss: 0.5346 - accuracy: 0.8195 - val_loss: 0.6984 - val_accuracy: 0.7515\n",
            "\n",
            "Epoch 00040: val_accuracy did not improve from 0.77515\n",
            "Epoch 41/60\n",
            "47/47 [==============================] - 43s 914ms/step - loss: 0.5204 - accuracy: 0.8386 - val_loss: 0.6028 - val_accuracy: 0.7988\n",
            "\n",
            "Epoch 00041: val_accuracy improved from 0.77515 to 0.79882, saving model to /output/best.hdf5\n",
            "Epoch 42/60\n",
            "47/47 [==============================] - 43s 915ms/step - loss: 0.5228 - accuracy: 0.8213 - val_loss: 0.9261 - val_accuracy: 0.7456\n",
            "\n",
            "Epoch 00042: val_accuracy did not improve from 0.79882\n",
            "Epoch 43/60\n",
            "47/47 [==============================] - 44s 928ms/step - loss: 0.5651 - accuracy: 0.8045 - val_loss: 1.0803 - val_accuracy: 0.7101\n",
            "\n",
            "Epoch 00043: val_accuracy did not improve from 0.79882\n",
            "Epoch 44/60\n",
            "47/47 [==============================] - 44s 933ms/step - loss: 0.5646 - accuracy: 0.8142 - val_loss: 0.7744 - val_accuracy: 0.7574\n",
            "\n",
            "Epoch 00044: val_accuracy did not improve from 0.79882\n",
            "Epoch 45/60\n",
            "47/47 [==============================] - 43s 924ms/step - loss: 0.6064 - accuracy: 0.8168 - val_loss: 0.8196 - val_accuracy: 0.7396\n",
            "\n",
            "Epoch 00045: val_accuracy did not improve from 0.79882\n",
            "Epoch 46/60\n",
            "47/47 [==============================] - 44s 920ms/step - loss: 0.5712 - accuracy: 0.8190 - val_loss: 1.1021 - val_accuracy: 0.7337\n",
            "\n",
            "Epoch 00046: val_accuracy did not improve from 0.79882\n",
            "Epoch 47/60\n",
            "47/47 [==============================] - 44s 928ms/step - loss: 0.5109 - accuracy: 0.8250 - val_loss: 1.0319 - val_accuracy: 0.7278\n",
            "\n",
            "Epoch 00047: val_accuracy did not improve from 0.79882\n",
            "Epoch 48/60\n",
            "47/47 [==============================] - 43s 918ms/step - loss: 0.4760 - accuracy: 0.8447 - val_loss: 0.8574 - val_accuracy: 0.7574\n",
            "\n",
            "Epoch 00048: val_accuracy did not improve from 0.79882\n",
            "Epoch 49/60\n",
            "47/47 [==============================] - 44s 932ms/step - loss: 0.5461 - accuracy: 0.8151 - val_loss: 0.7095 - val_accuracy: 0.7751\n",
            "\n",
            "Epoch 00049: val_accuracy did not improve from 0.79882\n",
            "Epoch 50/60\n",
            "47/47 [==============================] - 44s 941ms/step - loss: 0.4826 - accuracy: 0.8434 - val_loss: 0.8920 - val_accuracy: 0.7515\n",
            "\n",
            "Epoch 00050: val_accuracy did not improve from 0.79882\n",
            "Epoch 51/60\n",
            "47/47 [==============================] - 44s 946ms/step - loss: 0.5213 - accuracy: 0.8306 - val_loss: 0.5751 - val_accuracy: 0.8343\n",
            "\n",
            "Epoch 00051: val_accuracy improved from 0.79882 to 0.83432, saving model to /output/best.hdf5\n",
            "Epoch 52/60\n",
            "47/47 [==============================] - 44s 945ms/step - loss: 0.4492 - accuracy: 0.8422 - val_loss: 0.9035 - val_accuracy: 0.7337\n",
            "\n",
            "Epoch 00052: val_accuracy did not improve from 0.83432\n",
            "Epoch 53/60\n",
            "47/47 [==============================] - 44s 950ms/step - loss: 0.4752 - accuracy: 0.8426 - val_loss: 0.8746 - val_accuracy: 0.7692\n",
            "\n",
            "Epoch 00053: val_accuracy did not improve from 0.83432\n",
            "Epoch 54/60\n",
            "47/47 [==============================] - 44s 945ms/step - loss: 0.6007 - accuracy: 0.8247 - val_loss: 1.0349 - val_accuracy: 0.7219\n",
            "\n",
            "Epoch 00054: val_accuracy did not improve from 0.83432\n",
            "Epoch 55/60\n",
            "47/47 [==============================] - 44s 943ms/step - loss: 0.5602 - accuracy: 0.8235 - val_loss: 1.7936 - val_accuracy: 0.6627\n",
            "\n",
            "Epoch 00055: val_accuracy did not improve from 0.83432\n",
            "Epoch 56/60\n",
            "47/47 [==============================] - 44s 935ms/step - loss: 0.6030 - accuracy: 0.8125 - val_loss: 1.0599 - val_accuracy: 0.7751\n",
            "\n",
            "Epoch 00056: val_accuracy did not improve from 0.83432\n",
            "Epoch 57/60\n",
            "47/47 [==============================] - 44s 940ms/step - loss: 0.5101 - accuracy: 0.8187 - val_loss: 1.2053 - val_accuracy: 0.6568\n",
            "\n",
            "Epoch 00057: val_accuracy did not improve from 0.83432\n",
            "Epoch 58/60\n",
            "47/47 [==============================] - 44s 932ms/step - loss: 0.5353 - accuracy: 0.8155 - val_loss: 1.0209 - val_accuracy: 0.7337\n",
            "\n",
            "Epoch 00058: val_accuracy did not improve from 0.83432\n",
            "Epoch 59/60\n",
            "47/47 [==============================] - 45s 953ms/step - loss: 0.4672 - accuracy: 0.8469 - val_loss: 0.8183 - val_accuracy: 0.7219\n",
            "\n",
            "Epoch 00059: val_accuracy did not improve from 0.83432\n",
            "Epoch 60/60\n",
            "47/47 [==============================] - 45s 957ms/step - loss: 0.4387 - accuracy: 0.8428 - val_loss: 0.6501 - val_accuracy: 0.8047\n",
            "\n",
            "Epoch 00060: val_accuracy did not improve from 0.83432\n"
          ],
          "name": "stdout"
        }
      ]
    },
    {
      "cell_type": "code",
      "metadata": {
        "colab": {
          "base_uri": "https://localhost:8080/",
          "height": 347
        },
        "id": "8vLgPOat7Ocf",
        "outputId": "e2f2376c-52fc-475a-c195-45b93da0ccf4"
      },
      "source": [
        "plt.style.use(\"seaborn\")\n",
        "\n",
        "plt.plot(hist.history['accuracy'],label=\"training acc\",c='red')\n",
        "plt.plot(hist.history['val_accuracy'],label=\"validation acc\",c='blue')\n",
        "plt.legend()\n",
        "plt.show()"
      ],
      "execution_count": 25,
      "outputs": [
        {
          "output_type": "display_data",
          "data": {
            "image/png": "[encoded data removed]",
            "text/plain": [
              "<Figure size 576x396 with 1 Axes>"
            ]
          },
          "metadata": {
            "tags": []
          }
        }
      ]
    },
    {
      "cell_type": "markdown",
      "metadata": {
        "id": "S_0sI-Si8hnt"
      },
      "source": [
        "## Loading test data and Getting predictions"
      ]
    },
    {
      "cell_type": "code",
      "metadata": {
        "colab": {
          "base_uri": "https://localhost:8080/"
        },
        "id": "8FFopBd08kbO",
        "outputId": "41e3f354-49c7-4bcf-8467-9260e26d00ec"
      },
      "source": [
        "path = \"Test/\"\n",
        "y_df = pd.read_csv(path+\"sample_submission.csv\")\n",
        "y_df.shape"
      ],
      "execution_count": 26,
      "outputs": [
        {
          "output_type": "execute_result",
          "data": {
            "text/plain": [
              "(187, 2)"
            ]
          },
          "metadata": {
            "tags": []
          },
          "execution_count": 26
        }
      ]
    },
    {
      "cell_type": "code",
      "metadata": {
        "colab": {
          "base_uri": "https://localhost:8080/",
          "height": 195
        },
        "id": "RC2J8P8i8rV5",
        "outputId": "ca3c7e46-9ad8-4344-9efa-0de2ef22dc90"
      },
      "source": [
        "y_df.head()"
      ],
      "execution_count": 27,
      "outputs": [
        {
          "output_type": "execute_result",
          "data": {
            "text/html": [
              "<div>\n",
              "<style scoped>\n",
              "    .dataframe tbody tr th:only-of-type {\n",
              "        vertical-align: middle;\n",
              "    }\n",
              "\n",
              "    .dataframe tbody tr th {\n",
              "        vertical-align: top;\n",
              "    }\n",
              "\n",
              "    .dataframe thead th {\n",
              "        text-align: right;\n",
              "    }\n",
              "</style>\n",
              "<table border=\"1\" class=\"dataframe\">\n",
              "  <thead>\n",
              "    <tr style=\"text-align: right;\">\n",
              "      <th></th>\n",
              "      <th>Name</th>\n",
              "      <th>Class</th>\n",
              "    </tr>\n",
              "  </thead>\n",
              "  <tbody>\n",
              "    <tr>\n",
              "      <th>0</th>\n",
              "      <td>test_32.jpg</td>\n",
              "      <td>0</td>\n",
              "    </tr>\n",
              "    <tr>\n",
              "      <th>1</th>\n",
              "      <td>test_147.jpg</td>\n",
              "      <td>0</td>\n",
              "    </tr>\n",
              "    <tr>\n",
              "      <th>2</th>\n",
              "      <td>test_171.jpg</td>\n",
              "      <td>0</td>\n",
              "    </tr>\n",
              "    <tr>\n",
              "      <th>3</th>\n",
              "      <td>test_114.jpg</td>\n",
              "      <td>0</td>\n",
              "    </tr>\n",
              "    <tr>\n",
              "      <th>4</th>\n",
              "      <td>test_162.jpg</td>\n",
              "      <td>0</td>\n",
              "    </tr>\n",
              "  </tbody>\n",
              "</table>\n",
              "</div>"
            ],
            "text/plain": [
              "           Name  Class\n",
              "0   test_32.jpg      0\n",
              "1  test_147.jpg      0\n",
              "2  test_171.jpg      0\n",
              "3  test_114.jpg      0\n",
              "4  test_162.jpg      0"
            ]
          },
          "metadata": {
            "tags": []
          },
          "execution_count": 27
        }
      ]
    },
    {
      "cell_type": "code",
      "metadata": {
        "id": "SC0g6voC8uH3"
      },
      "source": [
        "y_df.drop(['Class'],inplace=True,axis=1)"
      ],
      "execution_count": 28,
      "outputs": []
    },
    {
      "cell_type": "code",
      "metadata": {
        "colab": {
          "base_uri": "https://localhost:8080/"
        },
        "id": "tFUfCJcn8uxd",
        "outputId": "19703031-5626-4d1d-f750-175672bfe01e"
      },
      "source": [
        "y_df=y_df.values.reshape((-1,))\n",
        "print(y_df.shape)"
      ],
      "execution_count": 29,
      "outputs": [
        {
          "output_type": "stream",
          "text": [
            "(187,)\n"
          ],
          "name": "stdout"
        }
      ]
    },
    {
      "cell_type": "code",
      "metadata": {
        "id": "zSzkiPTG8u-p"
      },
      "source": [
        "from pathlib import Path\n",
        "pi_test=Path(\"Test/images/\")\n",
        "\n",
        "image_data_test=[]\n",
        "label_test=[]\n",
        "\n",
        "for image_path in pi_test.glob(\"*\"):\n",
        "    label=(str(image_path).split(\"/\")[-1])\n",
        "    img=image.load_img(image_path,target_size=(224,224,3))\n",
        "    image_array=image.img_to_array(img)/255.0\n",
        "    image_data_test.append(image_array)\n",
        "    label_test.append(label)"
      ],
      "execution_count": 30,
      "outputs": []
    },
    {
      "cell_type": "code",
      "metadata": {
        "id": "nah4weZM8vCh"
      },
      "source": [
        "image_data_test=np.array(image_data_test)"
      ],
      "execution_count": 31,
      "outputs": []
    },
    {
      "cell_type": "code",
      "metadata": {
        "colab": {
          "base_uri": "https://localhost:8080/"
        },
        "id": "v1OMb52Y8vHg",
        "outputId": "cf8e98bc-f63f-4f58-ab10-4407e70102bd"
      },
      "source": [
        "print(image_data_test.shape, len(label_test), sep='\\n')"
      ],
      "execution_count": 32,
      "outputs": [
        {
          "output_type": "stream",
          "text": [
            "(187, 224, 224, 3)\n",
            "187\n"
          ],
          "name": "stdout"
        }
      ]
    },
    {
      "cell_type": "code",
      "metadata": {
        "colab": {
          "base_uri": "https://localhost:8080/"
        },
        "id": "BfhDjqjv885c",
        "outputId": "dddb5159-0000-4158-ed32-c9bd1ee2129d"
      },
      "source": [
        "y_predicted=model.predict_classes(image_data_test)\n",
        "y_predicted"
      ],
      "execution_count": 33,
      "outputs": [
        {
          "output_type": "stream",
          "text": [
            "/usr/local/lib/python3.7/dist-packages/tensorflow/python/keras/engine/sequential.py:450: UserWarning: `model.predict_classes()` is deprecated and will be removed after 2021-01-01. Please use instead:* `np.argmax(model.predict(x), axis=-1)`,   if your model does multi-class classification   (e.g. if it uses a `softmax` last-layer activation).* `(model.predict(x) > 0.5).astype(\"int32\")`,   if your model does binary classification   (e.g. if it uses a `sigmoid` last-layer activation).\n",
            "  warnings.warn('`model.predict_classes()` is deprecated and '\n"
          ],
          "name": "stderr"
        },
        {
          "output_type": "execute_result",
          "data": {
            "text/plain": [
              "array([0, 4, 1, 5, 9, 2, 6, 6, 1, 6, 2, 5, 1, 7, 2, 6, 6, 6, 2, 6, 1, 5,\n",
              "       0, 8, 9, 6, 4, 6, 2, 7, 9, 4, 9, 6, 3, 9, 3, 5, 1, 2, 3, 6, 3, 5,\n",
              "       4, 1, 1, 1, 1, 8, 2, 6, 2, 6, 1, 9, 2, 7, 5, 9, 4, 8, 1, 7, 4, 3,\n",
              "       1, 8, 7, 7, 1, 0, 5, 2, 1, 1, 9, 1, 2, 8, 2, 9, 9, 4, 1, 3, 2, 9,\n",
              "       7, 5, 9, 1, 7, 7, 8, 6, 2, 6, 9, 1, 8, 1, 9, 2, 2, 1, 1, 6, 7, 1,\n",
              "       9, 3, 9, 1, 7, 6, 3, 9, 6, 6, 5, 1, 9, 5, 1, 2, 6, 2, 6, 8, 1, 7,\n",
              "       7, 9, 1, 9, 0, 8, 7, 7, 1, 2, 6, 5, 9, 6, 5, 9, 5, 7, 4, 6, 8, 9,\n",
              "       6, 4, 8, 1, 7, 0, 6, 9, 0, 9, 4, 1, 9, 2, 0, 2, 4, 1, 0, 0, 1, 2,\n",
              "       8, 2, 2, 2, 2, 6, 9, 1, 7, 2, 8])"
            ]
          },
          "metadata": {
            "tags": []
          },
          "execution_count": 33
        }
      ]
    },
    {
      "cell_type": "code",
      "metadata": {
        "id": "F3BMunKE889-"
      },
      "source": [
        "y_pre=[]\n",
        "for i in range(image_data_test.shape[0]):\n",
        "    index=label_test.index(y_df[i])\n",
        "    y=y_predicted[index]\n",
        "    y_pre.append((y_df[i],y))"
      ],
      "execution_count": 34,
      "outputs": []
    },
    {
      "cell_type": "code",
      "metadata": {
        "id": "6APPdnFt89Dc"
      },
      "source": [
        "y_pre=np.array(y_pre)"
      ],
      "execution_count": 35,
      "outputs": []
    },
    {
      "cell_type": "code",
      "metadata": {
        "id": "CziSxkdf9DiQ"
      },
      "source": [
        "df_pre=pd.DataFrame(data=y_pre,columns=['Name','Class'])"
      ],
      "execution_count": 36,
      "outputs": []
    },
    {
      "cell_type": "code",
      "metadata": {
        "id": "RUNaN7Hd9Dy1"
      },
      "source": [
        "df_pre.to_csv('y_predict_of_pokedex_learning_own_features1.csv',index=False)"
      ],
      "execution_count": 37,
      "outputs": []
    },
    {
      "cell_type": "code",
      "metadata": {
        "id": "JbXO-TRs9D2t"
      },
      "source": [
        ""
      ],
      "execution_count": null,
      "outputs": []
    }
  ]
}